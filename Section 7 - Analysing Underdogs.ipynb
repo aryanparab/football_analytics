{
 "cells": [
  {
   "cell_type": "markdown",
   "metadata": {},
   "source": [
    "# Import Required Libraries"
   ]
  },
  {
   "cell_type": "code",
   "execution_count": null,
   "metadata": {},
   "outputs": [],
   "source": [
    "# Data Manipulation libraries:\n",
    "import numpy as np\n",
    "import pandas as pd\n",
    "from copy import deepcopy\n",
    "\n",
    "# Plotting libraries\n",
    "import mplsoccer\n",
    "import seaborn as sns\n",
    "import plotly.express as px\n",
    "import matplotlib.pyplot as plt\n",
    "import plotly.graph_objects as go\n",
    "import matplotlib.patheffects as path_effects\n",
    "\n",
    "from highlight_text import fig_text\n",
    "from plotly.subplots import make_subplots"
   ]
  },
  {
   "cell_type": "code",
   "execution_count": null,
   "metadata": {},
   "outputs": [],
   "source": [
    "!pip install highlight_text"
   ]
  },
  {
   "cell_type": "markdown",
   "metadata": {},
   "source": [
    "# Load the Data"
   ]
  },
  {
   "cell_type": "code",
   "execution_count": null,
   "metadata": {},
   "outputs": [],
   "source": [
    "eventDataWC18 = pd.read_csv(\"../data/matchwise_events_data_WC18.csv\",\n",
    "                              low_memory=False)"
   ]
  },
  {
   "cell_type": "code",
   "execution_count": null,
   "metadata": {},
   "outputs": [],
   "source": [
    "seasonMetaDataWC18 = pd.read_csv(\"../data/season_matchwise_data_WC18.csv\",\n",
    "                              low_memory=False)"
   ]
  },
  {
   "cell_type": "code",
   "execution_count": null,
   "metadata": {},
   "outputs": [],
   "source": [
    "pd.set_option(\"display.max_columns\", 50)\n",
    "pd.set_option(\"display.max_rows\", 100)"
   ]
  },
  {
   "cell_type": "markdown",
   "metadata": {},
   "source": [
    "# Feature Engineering"
   ]
  },
  {
   "cell_type": "code",
   "execution_count": null,
   "metadata": {},
   "outputs": [],
   "source": [
    "eventDataWC18.shape"
   ]
  },
  {
   "cell_type": "code",
   "execution_count": null,
   "metadata": {},
   "outputs": [],
   "source": [
    "seasonMetaDataWC18.shape"
   ]
  },
  {
   "cell_type": "markdown",
   "metadata": {},
   "source": [
    "## `startX`, `startY`"
   ]
  },
  {
   "cell_type": "code",
   "execution_count": null,
   "metadata": {},
   "outputs": [],
   "source": [
    "# Start location for any action:\n",
    "eventDataWC18[\"startX\"] = eventDataWC18[\"location\"]\\\n",
    "    .str.split(\", \", expand=True)[0].str[1:].apply(pd.to_numeric)\n",
    "eventDataWC18[\"startY\"] = eventDataWC18[\"location\"]\\\n",
    "    .str.split(\", \", expand=True)[1].str[:-1].apply(pd.to_numeric)"
   ]
  },
  {
   "cell_type": "markdown",
   "metadata": {},
   "source": [
    "## `winner` Column"
   ]
  },
  {
   "cell_type": "code",
   "execution_count": null,
   "metadata": {},
   "outputs": [],
   "source": [
    "seasonMetaDataWC18.columns"
   ]
  },
  {
   "cell_type": "code",
   "execution_count": null,
   "metadata": {},
   "outputs": [],
   "source": [
    "homeWinCond = seasonMetaDataWC18[\"home_score\"] > seasonMetaDataWC18[\"away_score\"]\n",
    "awayWinCond = seasonMetaDataWC18[\"home_score\"] < seasonMetaDataWC18[\"away_score\"]\n",
    "\n",
    "seasonMetaDataWC18[\"winner\"] = np.where(homeWinCond,\n",
    "                                        seasonMetaDataWC18[\"home_team.home_team_name\"],\n",
    "                                        np.where(awayWinCond,\n",
    "                                                 seasonMetaDataWC18[\"away_team.away_team_name\"],\n",
    "                                                 \"Draw\"))"
   ]
  },
  {
   "cell_type": "code",
   "execution_count": null,
   "metadata": {},
   "outputs": [],
   "source": [
    "seasonMetaDataWC18.head()"
   ]
  },
  {
   "cell_type": "markdown",
   "metadata": {},
   "source": [
    "## `started` Column"
   ]
  },
  {
   "cell_type": "code",
   "execution_count": null,
   "metadata": {},
   "outputs": [],
   "source": [
    "from ast import literal_eval"
   ]
  },
  {
   "cell_type": "code",
   "execution_count": null,
   "metadata": {},
   "outputs": [],
   "source": [
    "\"\"\" Get the Line-up Data \"\"\"\n",
    "finalLineUpdf = pd.DataFrame()\n",
    "for m_id in eventDataWC18[\"match_id\"].unique():\n",
    "    print(m_id, \"\\n\")\n",
    "    match_df = eventDataWC18[(eventDataWC18[\"match_id\"] == m_id)\n",
    "                                    & (eventDataWC18[\"type.id\"] == 35)][\"tactics.lineup\"].apply(literal_eval)\n",
    "    \n",
    "    df1 = pd.json_normalize(match_df.iloc[0])\n",
    "    df2 = pd.json_normalize(match_df.iloc[1])\n",
    "\n",
    "    df = df1.append(df2)\n",
    "    df.insert(0, \"match_id\", m_id)\n",
    "    \n",
    "    df[\"started\"] = \"Yes\"\n",
    "    \n",
    "    finalLineUpdf = finalLineUpdf.append(df)"
   ]
  },
  {
   "cell_type": "code",
   "execution_count": null,
   "metadata": {},
   "outputs": [],
   "source": [
    "df.columns"
   ]
  },
  {
   "cell_type": "code",
   "execution_count": null,
   "metadata": {},
   "outputs": [],
   "source": [
    "\"\"\" Merge Line-up data with Events Data \"\"\"\n",
    "eventDataWC18 = pd.merge(eventDataWC18,\n",
    "                         finalLineUpdf[['match_id', 'player.id', 'jersey_number', 'started']],\n",
    "                         how=\"left\",\n",
    "                         on=['match_id', 'player.id'])"
   ]
  },
  {
   "cell_type": "code",
   "execution_count": null,
   "metadata": {},
   "outputs": [],
   "source": [
    "eventDataWC18.shape"
   ]
  },
  {
   "cell_type": "code",
   "execution_count": null,
   "metadata": {},
   "outputs": [],
   "source": [
    "eventDataWC18.drop_duplicates(subset=[\"match_id\", \"player.id\"])\\\n",
    "    .groupby([\"match_id\"]).apply(lambda x: (x[\"started\"] == \"Yes\").sum()).unique()"
   ]
  },
  {
   "cell_type": "markdown",
   "metadata": {},
   "source": [
    "## `minsPlayed` Column"
   ]
  },
  {
   "cell_type": "code",
   "execution_count": null,
   "metadata": {},
   "outputs": [],
   "source": [
    "\"\"\" Compute the minute when the sub came on to the pitch  \"\"\"\n",
    "\n",
    "# Initialize sub-in data:\n",
    "subInData = eventDataWC18[[\"match_id\", \"substitution.replacement.id\", \"minute\"]]\\\n",
    ".dropna(subset=[\"substitution.replacement.id\"])\n",
    "# Rename columns:\n",
    "subInData.rename(columns={\"minute\": \"minMinute\",\n",
    "                        \"substitution.replacement.id\": \"subID\"}, inplace=True)\n",
    "# Merge newly computed data to events data:\n",
    "eventDataWC18 = pd.merge(eventDataWC18, subInData, how=\"left\",\n",
    "                         left_on=[\"match_id\", \"player.id\"],\n",
    "                         right_on=[\"match_id\", \"subID\"])"
   ]
  },
  {
   "cell_type": "code",
   "execution_count": null,
   "metadata": {},
   "outputs": [],
   "source": [
    "\"\"\" Compute the minute when the sub left the pitch  \"\"\"\n",
    "\n",
    "# Initialize sub-in data:\n",
    "subOutData = eventDataWC18[eventDataWC18['substitution.outcome.id'].notnull()]\\\n",
    "            [[\"match_id\", \"player.id\", \"minute\"]]\n",
    "# Rename columns:\n",
    "subOutData.rename(columns={\"minute\": \"maxMinute\"}, inplace=True)\n",
    "# Merge newly computed data to events data:\n",
    "eventDataWC18 = pd.merge(eventDataWC18, subOutData,\n",
    "                         how=\"left\",\n",
    "                         on=[\"match_id\", \"player.id\"])"
   ]
  },
  {
   "cell_type": "code",
   "execution_count": null,
   "metadata": {},
   "outputs": [],
   "source": [
    "\"\"\" Computing minimum and maximum value of mins for every player \"\"\"\n",
    "\n",
    "eventDataWC18[\"maxMinsMatch\"] =\\\n",
    "    eventDataWC18.groupby([\"match_id\"])[\"minute\"].transform(lambda x: x.max())\n",
    "\n",
    "eventDataWC18[\"minMinute\"] = np.where(eventDataWC18[\"started\"] == \"Yes\",\n",
    "                                             0, eventDataWC18[\"minMinute\"])\n",
    "\n",
    "eventDataWC18[\"maxMinute\"] = np.where(eventDataWC18[\"maxMinute\"].isnull(),\n",
    "                                             eventDataWC18[\"maxMinsMatch\"],\n",
    "                                             eventDataWC18[\"maxMinute\"])"
   ]
  },
  {
   "cell_type": "code",
   "execution_count": 1,
   "metadata": {},
   "outputs": [
    {
     "ename": "NameError",
     "evalue": "name 'eventDataWC18' is not defined",
     "output_type": "error",
     "traceback": [
      "\u001b[1;31m---------------------------------------------------------------------------\u001b[0m",
      "\u001b[1;31mNameError\u001b[0m                                 Traceback (most recent call last)",
      "\u001b[1;32m<ipython-input-1-3e4f4aea645b>\u001b[0m in \u001b[0;36m<module>\u001b[1;34m\u001b[0m\n\u001b[0;32m      1\u001b[0m \u001b[1;34m\"\"\" Compute Final total Mins Played for every player in every match \"\"\"\u001b[0m\u001b[1;33m\u001b[0m\u001b[1;33m\u001b[0m\u001b[0m\n\u001b[0;32m      2\u001b[0m \u001b[1;33m\u001b[0m\u001b[0m\n\u001b[1;32m----> 3\u001b[1;33m \u001b[0meventDataWC18\u001b[0m\u001b[1;33m[\u001b[0m\u001b[1;34m\"minsPlayed\"\u001b[0m\u001b[1;33m]\u001b[0m \u001b[1;33m=\u001b[0m \u001b[0meventDataWC18\u001b[0m\u001b[1;33m[\u001b[0m\u001b[1;34m\"maxMinute\"\u001b[0m\u001b[1;33m]\u001b[0m\u001b[1;33m.\u001b[0m\u001b[0msubtract\u001b[0m\u001b[1;33m(\u001b[0m\u001b[0meventDataWC18\u001b[0m\u001b[1;33m[\u001b[0m\u001b[1;34m\"minMinute\"\u001b[0m\u001b[1;33m]\u001b[0m\u001b[1;33m)\u001b[0m\u001b[1;33m\u001b[0m\u001b[1;33m\u001b[0m\u001b[0m\n\u001b[0m\u001b[0;32m      4\u001b[0m \u001b[1;33m\u001b[0m\u001b[0m\n\u001b[0;32m      5\u001b[0m \u001b[0meventDataWC18\u001b[0m\u001b[1;33m.\u001b[0m\u001b[0mhead\u001b[0m\u001b[1;33m(\u001b[0m\u001b[1;36m10\u001b[0m\u001b[1;33m)\u001b[0m\u001b[1;33m\u001b[0m\u001b[1;33m\u001b[0m\u001b[0m\n",
      "\u001b[1;31mNameError\u001b[0m: name 'eventDataWC18' is not defined"
     ]
    }
   ],
   "source": [
    "\"\"\" Compute Final total Mins Played for every player in every match \"\"\"\n",
    "\n",
    "eventDataWC18[\"minsPlayed\"] = eventDataWC18[\"maxMinute\"].subtract(eventDataWC18[\"minMinute\"])\n",
    "\n",
    "eventDataWC18.head(10)"
   ]
  },
  {
   "cell_type": "markdown",
   "metadata": {},
   "source": [
    "## Merge Season Meta data to Event Data"
   ]
  },
  {
   "cell_type": "code",
   "execution_count": null,
   "metadata": {},
   "outputs": [],
   "source": [
    "seasonMetaDataWC18.head()"
   ]
  },
  {
   "cell_type": "code",
   "execution_count": null,
   "metadata": {
    "scrolled": true
   },
   "outputs": [],
   "source": [
    "seasonMetaDataWC18.info()"
   ]
  },
  {
   "cell_type": "code",
   "execution_count": null,
   "metadata": {
    "scrolled": true
   },
   "outputs": [],
   "source": [
    "seasonMetaDataWC18[\"match_date\"].sort_values()"
   ]
  },
  {
   "cell_type": "code",
   "execution_count": null,
   "metadata": {
    "scrolled": true
   },
   "outputs": [],
   "source": [
    "pd.to_datetime(seasonMetaDataWC18[\"match_date\"])"
   ]
  },
  {
   "cell_type": "code",
   "execution_count": null,
   "metadata": {
    "scrolled": true
   },
   "outputs": [],
   "source": [
    "seasonMetaDataWC18[\"match_date\"] = pd.to_datetime(seasonMetaDataWC18[\"match_date\"])"
   ]
  },
  {
   "cell_type": "code",
   "execution_count": null,
   "metadata": {
    "scrolled": true
   },
   "outputs": [],
   "source": [
    "seasonMetaDataWC18[\"match_date\"].sort_values()"
   ]
  },
  {
   "cell_type": "code",
   "execution_count": null,
   "metadata": {},
   "outputs": [],
   "source": [
    "seasonMetaDataWC18.sort_values([\"match_date\"])"
   ]
  },
  {
   "cell_type": "code",
   "execution_count": null,
   "metadata": {},
   "outputs": [],
   "source": [
    "seasonMetaDataWC18.sort_values([\"match_date\"], inplace=True)"
   ]
  },
  {
   "cell_type": "code",
   "execution_count": null,
   "metadata": {
    "scrolled": true
   },
   "outputs": [],
   "source": [
    "(seasonMetaDataWC18[\"match_id\"].astype(str) + seasonMetaDataWC18[\"match_date\"].astype(str))"
   ]
  },
  {
   "cell_type": "code",
   "execution_count": null,
   "metadata": {},
   "outputs": [],
   "source": [
    "uniqueStr = seasonMetaDataWC18[\"match_id\"].astype(str) + seasonMetaDataWC18[\"match_date\"].astype(str)"
   ]
  },
  {
   "cell_type": "code",
   "execution_count": null,
   "metadata": {},
   "outputs": [],
   "source": [
    "pd.factorize([\"a\", \"b\", \"CA\"])[0]"
   ]
  },
  {
   "cell_type": "code",
   "execution_count": null,
   "metadata": {},
   "outputs": [],
   "source": [
    "pd.factorize(uniqueStr)[0] + 1"
   ]
  },
  {
   "cell_type": "code",
   "execution_count": null,
   "metadata": {},
   "outputs": [],
   "source": [
    "seasonMetaDataWC18[\"match_no\"] = pd.factorize(uniqueStr)[0] + 1"
   ]
  },
  {
   "cell_type": "code",
   "execution_count": null,
   "metadata": {},
   "outputs": [],
   "source": [
    "eventDataWC18Merged = pd.merge(eventDataWC18,\n",
    "                               seasonMetaDataWC18,\n",
    "                               how=\"left\",\n",
    "                               on=[\"match_id\"],\n",
    "                               suffixes=(\"\", \"_meta\"))"
   ]
  },
  {
   "cell_type": "markdown",
   "metadata": {},
   "source": [
    "# Road to the Final"
   ]
  },
  {
   "cell_type": "code",
   "execution_count": null,
   "metadata": {
    "scrolled": true
   },
   "outputs": [],
   "source": [
    "seasonMetaDataWC18[\"winner\"]"
   ]
  },
  {
   "cell_type": "code",
   "execution_count": null,
   "metadata": {},
   "outputs": [],
   "source": [
    "sum(seasonMetaDataWC18[\"winner\"] == \"France\")"
   ]
  },
  {
   "cell_type": "code",
   "execution_count": null,
   "metadata": {
    "scrolled": true
   },
   "outputs": [],
   "source": [
    "pd.get_dummies(seasonMetaDataWC18[\"winner\"])"
   ]
  },
  {
   "cell_type": "code",
   "execution_count": null,
   "metadata": {
    "scrolled": true
   },
   "outputs": [],
   "source": [
    "pd.get_dummies(seasonMetaDataWC18[\"winner\"]).cumsum()"
   ]
  },
  {
   "cell_type": "code",
   "execution_count": null,
   "metadata": {
    "scrolled": true
   },
   "outputs": [],
   "source": [
    "updatedSeasonData = pd.concat([seasonMetaDataWC18,\n",
    "                               pd.get_dummies(seasonMetaDataWC18[\"winner\"]).cumsum()], axis=1)"
   ]
  },
  {
   "cell_type": "code",
   "execution_count": null,
   "metadata": {
    "scrolled": true
   },
   "outputs": [],
   "source": [
    "updatedSeasonData\n"
   ]
  },
  {
   "cell_type": "code",
   "execution_count": null,
   "metadata": {},
   "outputs": [],
   "source": [
    "pd.get_dummies(seasonMetaDataWC18[\"winner\"]).columns"
   ]
  },
  {
   "cell_type": "code",
   "execution_count": null,
   "metadata": {},
   "outputs": [],
   "source": [
    "teamNamesList = pd.get_dummies(seasonMetaDataWC18[\"winner\"]).columns.tolist()"
   ]
  },
  {
   "cell_type": "code",
   "execution_count": null,
   "metadata": {
    "scrolled": true
   },
   "outputs": [],
   "source": [
    "updatedSeasonData[\"Argentina\"]"
   ]
  },
  {
   "cell_type": "code",
   "execution_count": null,
   "metadata": {},
   "outputs": [],
   "source": [
    "fig = go.Figure()\n",
    "\n",
    "for team in teamNamesList:\n",
    "    if team == \"Draw\":\n",
    "        continue\n",
    "    fig.add_trace(go.Scatter(x=updatedSeasonData[\"match_date\"],\n",
    "                             y=updatedSeasonData[team],\n",
    "                             name=team))\n",
    "fig.update_layout(width=900, height=700,\n",
    "                 xaxis={\"tickmode\": \"linear\"},\n",
    "                 xaxis_showgrid=False, yaxis_showgrid=False,\n",
    "                 plot_bgcolor='#383838')"
   ]
  },
  {
   "cell_type": "markdown",
   "metadata": {},
   "source": [
    "# Attacking Analysis | Croatia"
   ]
  },
  {
   "cell_type": "markdown",
   "metadata": {},
   "source": [
    "## Shot Maps"
   ]
  },
  {
   "cell_type": "code",
   "execution_count": null,
   "metadata": {
    "scrolled": true
   },
   "outputs": [],
   "source": [
    "eventDataWC18Merged[[\"team.id\", \"team.name\"]].drop_duplicates()"
   ]
  },
  {
   "cell_type": "code",
   "execution_count": null,
   "metadata": {},
   "outputs": [],
   "source": [
    "croatiaTeamid = 785"
   ]
  },
  {
   "cell_type": "code",
   "execution_count": null,
   "metadata": {},
   "outputs": [],
   "source": [
    "croatiaShotData = eventDataWC18Merged[(eventDataWC18Merged[\"type.id\"] == 16)\n",
    "                                      & (eventDataWC18Merged[\"team.id\"] == croatiaTeamid)]"
   ]
  },
  {
   "cell_type": "code",
   "execution_count": null,
   "metadata": {},
   "outputs": [],
   "source": [
    "\"\"\" Shot Distribution of Croatia \"\"\"\n",
    "colormap = \"seismic\"\n",
    "\n",
    "pitch = mplsoccer.VerticalPitch(line_color='white',\n",
    "                                     line_zorder=2,\n",
    "                                     pitch_color='#101010',\n",
    "                                     half=True,\n",
    "                                     pad_bottom=10)\n",
    "fig, ax = pitch.draw(nrows=1, ncols=3, figsize=(14, 25))\n",
    "kdeplot = pitch.kdeplot(croatiaShotData[\"startX\"],\n",
    "                        croatiaShotData[\"startY\"],\n",
    "                        ax=ax[0], shade=True,\n",
    "                        levels=100, cmap=colormap)\n",
    "hexmap = pitch.hexbin(croatiaShotData[\"startX\"],\n",
    "                      croatiaShotData[\"startY\"],\n",
    "                      ax=ax[1], edgecolors='#f4f4f4',\n",
    "                      gridsize=(15, 15), cmap=colormap)\n",
    "scatter = pitch.scatter(croatiaShotData[\"startX\"],\n",
    "                        croatiaShotData[\"startY\"],\n",
    "                        ax=ax[2],\n",
    "                        s=50, c=\"white\", edgecolors=\"red\")"
   ]
  },
  {
   "cell_type": "markdown",
   "metadata": {},
   "source": [
    "NOTE: To know more about colormaps in matplotlib --> [matplotlib colormap doc](https://matplotlib.org/stable/tutorials/colors/colormaps.html)"
   ]
  },
  {
   "cell_type": "code",
   "execution_count": null,
   "metadata": {},
   "outputs": [],
   "source": [
    "eventDataWC18Merged[\"period\"].unique()"
   ]
  },
  {
   "cell_type": "code",
   "execution_count": null,
   "metadata": {},
   "outputs": [],
   "source": [
    "\"\"\" Shot Data excluding Penalty Shoot-outs \"\"\"\n",
    "croatiaShotData = eventDataWC18Merged[(eventDataWC18Merged[\"type.id\"] == 16)\n",
    "                                & (eventDataWC18Merged[\"team.id\"] == croatiaTeamid)\n",
    "                                & (eventDataWC18Merged[\"period\"] != 5)]"
   ]
  },
  {
   "cell_type": "code",
   "execution_count": null,
   "metadata": {
    "scrolled": true
   },
   "outputs": [],
   "source": [
    "\"\"\" Shot Distribution excluding Penalty Shoot-outs \"\"\"\n",
    "colormap = \"seismic\"\n",
    "\n",
    "pitch = mplsoccer.VerticalPitch(line_color='white',\n",
    "                                     line_zorder=2,\n",
    "                                     pitch_color='#101010',\n",
    "                                     half=True,\n",
    "                                     pad_bottom=10)\n",
    "fig, ax = pitch.draw(nrows=1, ncols=3, figsize=(14, 20))\n",
    "kdeplot = pitch.kdeplot(croatiaShotData[\"startX\"],\n",
    "                                  croatiaShotData[\"startY\"],\n",
    "                                  ax=ax[0], shade=True,\n",
    "                                  levels=100, cmap=colormap)\n",
    "hexmap = pitch.hexbin(croatiaShotData[\"startX\"], croatiaShotData[\"startY\"],\n",
    "                      ax=ax[1], edgecolors='#f4f4f4',\n",
    "                      gridsize=(15, 15), cmap=colormap)\n",
    "scatter = pitch.scatter(croatiaShotData[\"startX\"], croatiaShotData[\"startY\"],\n",
    "                        ax=ax[2],\n",
    "                        s=30, c=\"white\", edgecolors=\"red\")"
   ]
  },
  {
   "cell_type": "code",
   "execution_count": null,
   "metadata": {},
   "outputs": [],
   "source": [
    "croatiaShotData[\"match_id\"].nunique()"
   ]
  },
  {
   "cell_type": "code",
   "execution_count": null,
   "metadata": {},
   "outputs": [],
   "source": [
    "seasonMetaDataWC18.head()"
   ]
  },
  {
   "cell_type": "code",
   "execution_count": null,
   "metadata": {
    "scrolled": false
   },
   "outputs": [],
   "source": [
    "\"\"\" Match-wise Shot Distribution Maps \"\"\"\n",
    "colormap = \"bwr\"\n",
    "\n",
    "pitch = mplsoccer.VerticalPitch(line_color='white',\n",
    "                                pitch_color='#101010',\n",
    "                                half=True,\n",
    "                                line_zorder=2)\n",
    "fig, axs = pitch.grid(nrows=2, ncols=4, space=0.1, figheight=40,\n",
    "                      title_height=0, endnote_height=0,\n",
    "                      grid_width=0.9, grid_height=0.98,\n",
    "                      bottom=0.01, left=0.05)\n",
    "matchIDs = croatiaShotData.sort_values(\"match_no\")[\"match_id\"].unique()\n",
    "for idx, ax in enumerate(axs['pitch'].flat):\n",
    "    if idx < len(matchIDs):\n",
    "        # Subset data for match in current iteration:\n",
    "        matchShotsData = croatiaShotData[croatiaShotData[\"match_id\"] == matchIDs[idx]]\n",
    "        # Plot hexmap of shot distribution:\n",
    "        hexmap = pitch.hexbin(matchShotsData[\"startX\"],\n",
    "                              matchShotsData[\"startY\"],\n",
    "                              ax=ax, edgecolors='#f4f4f4',\n",
    "                              gridsize=(15, 15), cmap=colormap)\n",
    "        # Set title:\n",
    "        matchNo = matchShotsData[\"match_no\"].unique().item()\n",
    "        matchStage = matchShotsData[\"competition_stage.name\"].unique().item()\n",
    "        ax.set_title(str(matchNo) + \" | \" + matchStage,\n",
    "                     fontsize=100)"
   ]
  },
  {
   "cell_type": "code",
   "execution_count": 1,
   "metadata": {},
   "outputs": [
    {
     "ename": "NameError",
     "evalue": "name 'mplsoccer' is not defined",
     "output_type": "error",
     "traceback": [
      "\u001b[1;31m---------------------------------------------------------------------------\u001b[0m",
      "\u001b[1;31mNameError\u001b[0m                                 Traceback (most recent call last)",
      "\u001b[1;32m<ipython-input-1-f6e03ed0e2e7>\u001b[0m in \u001b[0;36m<module>\u001b[1;34m\u001b[0m\n\u001b[0;32m      2\u001b[0m \u001b[0mcolormap\u001b[0m \u001b[1;33m=\u001b[0m \u001b[1;34m\"bwr\"\u001b[0m\u001b[1;33m\u001b[0m\u001b[1;33m\u001b[0m\u001b[0m\n\u001b[0;32m      3\u001b[0m \u001b[1;33m\u001b[0m\u001b[0m\n\u001b[1;32m----> 4\u001b[1;33m pitch = mplsoccer.VerticalPitch(line_color='white',\n\u001b[0m\u001b[0;32m      5\u001b[0m                                 \u001b[0mpitch_color\u001b[0m\u001b[1;33m=\u001b[0m\u001b[1;34m'#101010'\u001b[0m\u001b[1;33m,\u001b[0m\u001b[1;33m\u001b[0m\u001b[1;33m\u001b[0m\u001b[0m\n\u001b[0;32m      6\u001b[0m                                 \u001b[0mhalf\u001b[0m\u001b[1;33m=\u001b[0m\u001b[1;32mTrue\u001b[0m\u001b[1;33m,\u001b[0m\u001b[1;33m\u001b[0m\u001b[1;33m\u001b[0m\u001b[0m\n",
      "\u001b[1;31mNameError\u001b[0m: name 'mplsoccer' is not defined"
     ]
    }
   ],
   "source": [
    "\"\"\" Match-wise Shot Distribution Maps (goals and non-goal shots separated)\"\"\"\n",
    "colormap = \"bwr\"\n",
    "\n",
    "pitch = mplsoccer.VerticalPitch(line_color='white',\n",
    "                                pitch_color='#101010',\n",
    "                                half=True,\n",
    "                                line_zorder=2)\n",
    "fig, axs = pitch.grid(nrows=4, ncols=2, space=0.1, figheight=40,\n",
    "                      title_height=0, endnote_height=0,\n",
    "                      grid_width=0.9, grid_height=0.98,\n",
    "                      bottom=0.01, left=0.05)\n",
    "matchIDs = croatiaShotData.sort_values(\"match_no\")[\"match_id\"].unique()\n",
    "for idx, ax in enumerate(axs['pitch'].flat):\n",
    "    if idx < len(matchIDs):\n",
    "        # Subset data for match in current iteration:\n",
    "        matchShotsData = croatiaShotData[croatiaShotData[\"match_id\"] == matchIDs[idx]]\n",
    "        ngplayerData = matchShotsData[matchShotsData[\"shot.outcome.id\"] != 97]\n",
    "        gplayerData = matchShotsData[matchShotsData[\"shot.outcome.id\"] == 97]\n",
    "\n",
    "        sc = pitch.scatter(ngplayerData[\"startX\"], ngplayerData[\"startY\"],\n",
    "                           s=(ngplayerData[\"shot.statsbomb_xg\"] * 5000) + 100,\n",
    "                           c=\"red\",\n",
    "                           edgecolors='#ffffff',  # give the markers a white border\n",
    "                           marker=\"s\",\n",
    "                           ax=ax)\n",
    "        sc2 = pitch.scatter(gplayerData[\"startX\"], gplayerData[\"startY\"],\n",
    "                           s=(gplayerData[\"shot.statsbomb_xg\"] * 5000) + 100,\n",
    "                           c=\"blue\",\n",
    "                           edgecolors='#383838',  # give the markers a charcoal border\n",
    "                           marker=\"football\",\n",
    "                           ax=ax)\n",
    "        # Set title:\n",
    "        matchNo = matchShotsData[\"match_no\"].unique().item()\n",
    "        matchStage = matchShotsData[\"competition_stage.name\"].unique().item()\n",
    "        ax.set_title(str(matchNo) + \" | \" + matchStage,\n",
    "                     fontsize=50)"
   ]
  },
  {
   "cell_type": "markdown",
   "metadata": {},
   "source": [
    "# Defensive Analysis | Croatia"
   ]
  },
  {
   "cell_type": "markdown",
   "metadata": {},
   "source": [
    "## Def Action Map"
   ]
  },
  {
   "cell_type": "code",
   "execution_count": null,
   "metadata": {},
   "outputs": [],
   "source": [
    "\"\"\" Def Action Data \"\"\"\n",
    "croatiaDefActionData = eventDataWC18Merged[(eventDataWC18Merged[\"type.id\"].isin([4, 9, 10, 22])\n",
    "                                            & (eventDataWC18Merged[\"team.id\"] == croatiaTeamid))]"
   ]
  },
  {
   "cell_type": "code",
   "execution_count": null,
   "metadata": {
    "scrolled": false
   },
   "outputs": [],
   "source": [
    "colormap = \"seismic\"\n",
    "\n",
    "pitch = mplsoccer.VerticalPitch(line_color='white',\n",
    "                                     line_zorder=2,\n",
    "                                     pitch_color='#101010',\n",
    "                                     pad_bottom=10)\n",
    "fig, ax = pitch.draw(nrows=1, ncols=3, figsize=(14, 25))\n",
    "kdeplot = pitch.kdeplot(croatiaDefActionData[\"startX\"],\n",
    "                        croatiaDefActionData[\"startY\"],\n",
    "                        ax=ax[0], shade=True,\n",
    "                        levels=100, cmap=colormap)\n",
    "hexmap = pitch.hexbin(croatiaDefActionData[\"startX\"],\n",
    "                      croatiaDefActionData[\"startY\"],\n",
    "                      ax=ax[1], edgecolors='#f4f4f4',\n",
    "                      gridsize=(3, 3), cmap=colormap)\n",
    "scatter = pitch.scatter(croatiaDefActionData[\"startX\"],\n",
    "                        croatiaDefActionData[\"startY\"],\n",
    "                        ax=ax[2],\n",
    "                        s=20, c=\"white\", edgecolors=\"red\")"
   ]
  },
  {
   "cell_type": "code",
   "execution_count": null,
   "metadata": {},
   "outputs": [],
   "source": [
    "\"\"\" DefAction Data excluding Clearances \"\"\"\n",
    "croatiaDefActionData = eventDataWC18Merged[(eventDataWC18Merged[\"type.id\"].isin([4, 10, 22])\n",
    "                                & (eventDataWC18Merged[\"team.id\"] == croatiaTeamid))]"
   ]
  },
  {
   "cell_type": "code",
   "execution_count": null,
   "metadata": {
    "scrolled": false
   },
   "outputs": [],
   "source": [
    "colormap = \"seismic\"\n",
    "\n",
    "pitch = mplsoccer.VerticalPitch(line_color='white',\n",
    "                                     line_zorder=2,\n",
    "                                     pitch_color='#101010',\n",
    "                                     pad_bottom=10)\n",
    "fig, ax = pitch.draw(nrows=1, ncols=3, figsize=(14, 20))\n",
    "kdeplot = pitch.kdeplot(croatiaDefActionData[\"startX\"],\n",
    "                                  croatiaDefActionData[\"startY\"],\n",
    "                                  ax=ax[0], shade=True,\n",
    "                                  levels=100, cmap=colormap)\n",
    "hexmap = pitch.hexbin(croatiaDefActionData[\"startX\"], croatiaDefActionData[\"startY\"],\n",
    "                      ax=ax[1], edgecolors='#f4f4f4',\n",
    "                      gridsize=(5, 5), cmap=colormap)\n",
    "scatter = pitch.scatter(croatiaDefActionData[\"startX\"], croatiaDefActionData[\"startY\"],\n",
    "                        ax=ax[2],\n",
    "                        s=20, c=\"white\", edgecolors=\"red\")"
   ]
  },
  {
   "cell_type": "code",
   "execution_count": null,
   "metadata": {},
   "outputs": [],
   "source": [
    "\"\"\" Match-wise Def Actions Distribution Maps \"\"\"\n",
    "colormap = \"bwr\"\n",
    "\n",
    "pitch = mplsoccer.VerticalPitch(line_color='white',\n",
    "                                pitch_color='#101010',\n",
    "                                line_zorder=2)\n",
    "fig, axs = pitch.grid(nrows=2, ncols=4, space=0.1, figheight=40,\n",
    "                      title_height=0, endnote_height=0,\n",
    "                      grid_width=0.9, grid_height=0.98,\n",
    "                      bottom=0.01, left=0.05)\n",
    "matchIDs = croatiaDefActionData.sort_values(\"match_no\")[\"match_id\"].unique()\n",
    "for idx, ax in enumerate(axs['pitch'].flat):\n",
    "    if idx < len(matchIDs):\n",
    "        # Subset data for match in current iteration:\n",
    "        matchDefData = croatiaDefActionData[croatiaDefActionData[\"match_id\"] == matchIDs[idx]]\n",
    "        # Plot hexmap of shot distribution:\n",
    "        hexmap = pitch.hexbin(matchDefData[\"startX\"],\n",
    "                              matchDefData[\"startY\"],\n",
    "                              ax=ax, edgecolors='#f4f4f4',\n",
    "                              gridsize=(5, 5), cmap=colormap)\n",
    "        # Set title:\n",
    "        matchNo = matchDefData[\"match_no\"].unique().item()\n",
    "        matchStage = matchDefData[\"competition_stage.name\"].unique().item()\n",
    "        ax.set_title(str(matchNo) + \" | \" + matchStage,\n",
    "                     fontsize=100)"
   ]
  },
  {
   "cell_type": "markdown",
   "metadata": {},
   "source": [
    "## Pressure Map"
   ]
  },
  {
   "cell_type": "code",
   "execution_count": null,
   "metadata": {},
   "outputs": [],
   "source": [
    "\"\"\" Pressure Data \"\"\"\n",
    "croatiaPressureData = eventDataWC18Merged[(eventDataWC18Merged[\"type.id\"] == 17)\n",
    "                                & (eventDataWC18Merged[\"team.id\"] == croatiaTeamid)]"
   ]
  },
  {
   "cell_type": "code",
   "execution_count": null,
   "metadata": {},
   "outputs": [],
   "source": [
    "\"\"\" Distribution of Pressure on a Pitch Map \"\"\"\n",
    "\n",
    "# Set the Text Effects:\n",
    "path_eff = [path_effects.Stroke(linewidth=3, foreground='black'),\n",
    "            path_effects.Normal()]\n",
    "\n",
    "\"\"\"\n",
    "Distribution of Pressure on a Pitch Map \n",
    "(Horizontal, Vertical and Full)\n",
    "\"\"\"\n",
    "\n",
    "# Set the Pitch Parameters:\n",
    "pitch = mplsoccer.VerticalPitch(pitch_color='#101010', line_zorder=2, line_color='#ffffff')\n",
    "# Draw the pitch according to the set Pitch Parameters:\n",
    "fig, axs = pitch.grid(nrows=1, ncols=3, title_height=0.08,\n",
    "                     axis=False)\n",
    "\n",
    "pitchPos = [\"horizontal\", \"vertical\", \"full\"]\n",
    "for idx, ax in enumerate(axs[\"pitch\"]):\n",
    "    pos = pitchPos[idx]\n",
    "    # Calculating the pressure difference\n",
    "    bin_statistic = pitch.bin_statistic_positional(croatiaPressureData[\"startX\"],\n",
    "                                                   croatiaPressureData[\"startY\"],\n",
    "                                                   statistic='count',\n",
    "                                                   positional=pos,\n",
    "                                                   normalize=True)\n",
    "    # Plot the Heatmap according to the positions selected above\n",
    "    pitch.heatmap_positional(bin_statistic,\n",
    "                             ax=ax,\n",
    "                             cmap='coolwarm',\n",
    "                             edgecolors='#22312b')\n",
    "    # Plot the points at the exact location of where the pressure was applied:\n",
    "    pitch.scatter(croatiaPressureData[\"startX\"],\n",
    "                  croatiaPressureData[\"startY\"],\n",
    "                  c='white', s=5, ax=ax, alpha=0.3)\n",
    "    # Add the Distribution count for each section of the pitch:\n",
    "    labels = pitch.label_heatmap(bin_statistic, color='white', fontsize=20,\n",
    "                                 ax=ax, ha='center', va='center',\n",
    "                                 str_format='{:.0%}', path_effects=path_eff)\n",
    "    axs['title'].text(0.5, 0.5, \"Positional Pressure Maps\", color='#dee6ea',\n",
    "                  va='center', ha='center', path_effects=path_eff,\n",
    "                  fontsize=25)\n",
    "    ax.set_title(pos.capitalize())\n",
    "    "
   ]
  },
  {
   "cell_type": "code",
   "execution_count": null,
   "metadata": {
    "scrolled": false
   },
   "outputs": [],
   "source": [
    "colormap = \"seismic\"\n",
    "\n",
    "pitch = mplsoccer.VerticalPitch(line_color='white',\n",
    "                                     line_zorder=2,\n",
    "                                     pitch_color='#101010',\n",
    "                                     pad_bottom=10)\n",
    "fig, ax = pitch.draw(nrows=1, ncols=3, figsize=(14, 20))\n",
    "kdeplot = pitch.kdeplot(croatiaPressureData[\"startX\"],\n",
    "                                  croatiaPressureData[\"startY\"],\n",
    "                                  ax=ax[0], shade=True,\n",
    "                                  levels=100, cmap=colormap)\n",
    "hexmap = pitch.hexbin(croatiaPressureData[\"startX\"], croatiaPressureData[\"startY\"],\n",
    "                      ax=ax[1], edgecolors='#f4f4f4',\n",
    "                      gridsize=(5, 5), cmap=colormap)\n",
    "scatter = pitch.scatter(croatiaPressureData[\"startX\"], croatiaPressureData[\"startY\"],\n",
    "                        ax=ax[2],\n",
    "                        s=20, c=\"white\", edgecolors=\"red\")"
   ]
  },
  {
   "cell_type": "code",
   "execution_count": null,
   "metadata": {},
   "outputs": [],
   "source": [
    "\"\"\" Match-wise Def Actions Distribution Maps \"\"\"\n",
    "colormap = \"bwr\"\n",
    "\n",
    "pitch = mplsoccer.VerticalPitch(line_color='white',\n",
    "                                pitch_color='#101010',\n",
    "                                line_zorder=2)\n",
    "fig, axs = pitch.grid(nrows=2, ncols=4, space=0.1, figheight=40,\n",
    "                      title_height=0, endnote_height=0,\n",
    "                      grid_width=0.9, grid_height=0.98,\n",
    "                      bottom=0.01, left=0.05)\n",
    "matchIDs = croatiaDefActionData.sort_values(\"match_no\")[\"match_id\"].unique()\n",
    "for idx, ax in enumerate(axs['pitch'].flat):\n",
    "    if idx < len(matchIDs):\n",
    "        # Subset data for match in current iteration:\n",
    "        matchDefData = croatiaPressureData[croatiaPressureData[\"match_id\"] == matchIDs[idx]]\n",
    "        # Calculating the pressure difference\n",
    "        bin_statistic = pitch.bin_statistic_positional(matchDefData[\"startX\"],\n",
    "                                                       matchDefData[\"startY\"],\n",
    "                                                       statistic='count',\n",
    "                                                       positional=\"vertical\",\n",
    "                                                       normalize=True)\n",
    "        # Plot the Heatmap according to the positions selected above\n",
    "        pitch.heatmap_positional(bin_statistic,\n",
    "                                 ax=ax,\n",
    "                                 cmap='coolwarm',\n",
    "                                 edgecolors='#22312b')\n",
    "        # Plot the points at the exact location of where the pressure was applied:\n",
    "        pitch.scatter(matchDefData[\"startX\"],\n",
    "                      matchDefData[\"startY\"],\n",
    "                      c='white', s=150, ax=ax, alpha=0.3)\n",
    "        # Add the Distribution count for each section of the pitch:\n",
    "        labels = pitch.label_heatmap(bin_statistic, color='white', fontsize=80,\n",
    "                                     ax=ax, ha='center', va='center',\n",
    "                                     str_format='{:.0%}', path_effects=path_eff)\n",
    "# Set title:\n",
    "        matchNo = matchDefData[\"match_no\"].unique().item()\n",
    "        matchStage = matchDefData[\"competition_stage.name\"].unique().item()\n",
    "        ax.set_title(str(matchNo) + \" | \" + matchStage,\n",
    "                     fontsize=100)        "
   ]
  },
  {
   "cell_type": "markdown",
   "metadata": {},
   "source": [
    "# Comparison Analysis | All Teams"
   ]
  },
  {
   "cell_type": "markdown",
   "metadata": {},
   "source": [
    "## Attacking Comparison | All Teams"
   ]
  },
  {
   "cell_type": "markdown",
   "metadata": {},
   "source": [
    "Attacking Parameters:\n",
    "1. Goals\n",
    "1. xG\n",
    "1. Shots\n",
    "1. Shots OT\n",
    "1. Shot Accuracy\n",
    "1. Goal Conversion\n",
    "1. Fouls Won"
   ]
  },
  {
   "cell_type": "code",
   "execution_count": null,
   "metadata": {},
   "outputs": [],
   "source": [
    "attParams = [\"Goals\", \"xG\", \"totShots\", \"shotsOT\", \"foulsWon\"]"
   ]
  },
  {
   "cell_type": "code",
   "execution_count": null,
   "metadata": {},
   "outputs": [],
   "source": [
    "attParamsPerMatch = [col + \"PerMatch\" for col in attParams]"
   ]
  },
  {
   "cell_type": "code",
   "execution_count": null,
   "metadata": {},
   "outputs": [],
   "source": [
    "attParamsPerMatch"
   ]
  },
  {
   "cell_type": "code",
   "execution_count": null,
   "metadata": {},
   "outputs": [],
   "source": [
    "finalAttParams = attParamsPerMatch + [\"shotAcc\", \"gcRate\"]"
   ]
  },
  {
   "cell_type": "code",
   "execution_count": null,
   "metadata": {},
   "outputs": [],
   "source": [
    "finalAttParams"
   ]
  },
  {
   "cell_type": "markdown",
   "metadata": {},
   "source": [
    "### Compute Params for all teams"
   ]
  },
  {
   "cell_type": "code",
   "execution_count": null,
   "metadata": {
    "scrolled": true
   },
   "outputs": [],
   "source": [
    "eventDataWC18Merged.groupby([\"team.id\"]).agg({\"team.name\": \"first\",\n",
    "                                              \"match_id\": \"nunique\",\n",
    "                                              \"shot.outcome.id\": [lambda x: (x == 97).sum(),\n",
    "                                                                  lambda x: x.isin([97, 100]).sum(),\n",
    "                                                                  \"count\"],\n",
    "                                              \"shot.statsbomb_xg\": \"sum\",\n",
    "                                              \"type.id\": lambda x: (x == 21).sum()})"
   ]
  },
  {
   "cell_type": "code",
   "execution_count": null,
   "metadata": {},
   "outputs": [],
   "source": [
    "allTeamsAttData =\\\n",
    "    eventDataWC18Merged.groupby([\"team.id\"]).agg({\"team.name\": \"first\",\n",
    "                                            \"match_id\": \"nunique\",\n",
    "                                            \"shot.outcome.id\": [lambda x: (x == 97).sum(),\n",
    "                                                                lambda x: x.isin([97, 100]).sum(),\n",
    "                                                                \"count\"],\n",
    "                                            \"shot.statsbomb_xg\": \"sum\",\n",
    "                                            \"type.id\": lambda x: (x == 21).sum()})"
   ]
  },
  {
   "cell_type": "code",
   "execution_count": null,
   "metadata": {},
   "outputs": [],
   "source": [
    "allTeamsAttData.columns = [\"teamName\", \"nMatches\", \"Goals\", \"shotsOT\", \"totShots\", \"xG\", \"foulsWon\"]"
   ]
  },
  {
   "cell_type": "code",
   "execution_count": null,
   "metadata": {},
   "outputs": [],
   "source": [
    "allTeamsAttData[\"shotAcc\"] = allTeamsAttData[\"shotsOT\"].\\\n",
    "    divide(allTeamsAttData[\"totShots\"]).multiply(100).round(1)"
   ]
  },
  {
   "cell_type": "code",
   "execution_count": null,
   "metadata": {},
   "outputs": [],
   "source": [
    "allTeamsAttData[\"gcRate\"] = allTeamsAttData[\"Goals\"]\\\n",
    "    .divide(allTeamsAttData[\"totShots\"]).multiply(100).round(1)"
   ]
  },
  {
   "cell_type": "code",
   "execution_count": null,
   "metadata": {},
   "outputs": [],
   "source": [
    "allTeamsAttData.head()"
   ]
  },
  {
   "cell_type": "code",
   "execution_count": null,
   "metadata": {
    "scrolled": true
   },
   "outputs": [],
   "source": [
    "for col in attParams:\n",
    "    allTeamsAttData[col + \"PerMatch\"] = allTeamsAttData[col].divide(allTeamsAttData[\"nMatches\"])"
   ]
  },
  {
   "cell_type": "code",
   "execution_count": null,
   "metadata": {
    "scrolled": true
   },
   "outputs": [],
   "source": [
    "allTeamsAttData"
   ]
  },
  {
   "cell_type": "code",
   "execution_count": null,
   "metadata": {},
   "outputs": [],
   "source": [
    "allTeamsAttData.mean()"
   ]
  },
  {
   "cell_type": "markdown",
   "metadata": {},
   "source": [
    "## Comparison using Pizza Plot"
   ]
  },
  {
   "cell_type": "code",
   "execution_count": null,
   "metadata": {},
   "outputs": [],
   "source": [
    "params = finalAttParams"
   ]
  },
  {
   "cell_type": "code",
   "execution_count": null,
   "metadata": {},
   "outputs": [],
   "source": [
    "pizzaData = pd.DataFrame(index=[\"Croatia\", \"League Avg.\"],\n",
    "                         columns=params)"
   ]
  },
  {
   "cell_type": "code",
   "execution_count": null,
   "metadata": {},
   "outputs": [],
   "source": [
    "pizzaData"
   ]
  },
  {
   "cell_type": "code",
   "execution_count": null,
   "metadata": {},
   "outputs": [],
   "source": [
    "allTeamsAttData.loc[croatiaTeamid, params].astype(float)"
   ]
  },
  {
   "cell_type": "code",
   "execution_count": null,
   "metadata": {},
   "outputs": [],
   "source": [
    "\"\"\" Get stats for Croatia \"\"\"\n",
    "pizzaData.loc[\"Croatia\"] = allTeamsAttData.loc[croatiaTeamid, params].astype(float).round(1).tolist()"
   ]
  },
  {
   "cell_type": "code",
   "execution_count": null,
   "metadata": {},
   "outputs": [],
   "source": [
    "pizzaData"
   ]
  },
  {
   "cell_type": "code",
   "execution_count": null,
   "metadata": {
    "scrolled": true
   },
   "outputs": [],
   "source": [
    "allTeamsAttData.loc[(allTeamsAttData.index != croatiaTeamid),\n",
    "                                                   params].round(1)"
   ]
  },
  {
   "cell_type": "code",
   "execution_count": null,
   "metadata": {},
   "outputs": [],
   "source": [
    "allTeamsAttData.loc[(allTeamsAttData.index != croatiaTeamid),\n",
    "                                                   params].mean().round(1).tolist()"
   ]
  },
  {
   "cell_type": "code",
   "execution_count": null,
   "metadata": {},
   "outputs": [],
   "source": [
    "\"\"\" Get stats for Rest of the Teams \"\"\"\n",
    "pizzaData.loc[\"League Avg.\"] = allTeamsAttData.loc[(allTeamsAttData.index != croatiaTeamid),\n",
    "                                                   params].mean().round(1).tolist()"
   ]
  },
  {
   "cell_type": "code",
   "execution_count": null,
   "metadata": {},
   "outputs": [],
   "source": [
    "pizzaData"
   ]
  },
  {
   "cell_type": "code",
   "execution_count": null,
   "metadata": {},
   "outputs": [],
   "source": [
    "pizzaData.loc[[\"Croatia\", \"League Avg.\"]].min()"
   ]
  },
  {
   "cell_type": "code",
   "execution_count": null,
   "metadata": {},
   "outputs": [],
   "source": [
    "values = pizzaData.loc[\"Croatia\"].tolist()\n",
    "values_2 = pizzaData.loc[\"League Avg.\"].tolist()"
   ]
  },
  {
   "cell_type": "code",
   "execution_count": null,
   "metadata": {},
   "outputs": [],
   "source": [
    "values"
   ]
  },
  {
   "cell_type": "code",
   "execution_count": null,
   "metadata": {},
   "outputs": [],
   "source": [
    "values_2"
   ]
  },
  {
   "cell_type": "code",
   "execution_count": null,
   "metadata": {},
   "outputs": [],
   "source": [
    "allTeamsAttData[params].min()"
   ]
  },
  {
   "cell_type": "code",
   "execution_count": null,
   "metadata": {},
   "outputs": [],
   "source": [
    "minRange = allTeamsAttData[params].min().tolist()\n",
    "maxRange = allTeamsAttData[params].max().tolist()"
   ]
  },
  {
   "cell_type": "code",
   "execution_count": null,
   "metadata": {},
   "outputs": [],
   "source": [
    "minRange"
   ]
  },
  {
   "cell_type": "code",
   "execution_count": null,
   "metadata": {},
   "outputs": [],
   "source": [
    "maxRange"
   ]
  },
  {
   "cell_type": "code",
   "execution_count": null,
   "metadata": {},
   "outputs": [],
   "source": [
    "finalAttParams"
   ]
  },
  {
   "cell_type": "code",
   "execution_count": null,
   "metadata": {
    "scrolled": false
   },
   "outputs": [],
   "source": [
    "# instantiate PyPizza class\n",
    "baker = mplsoccer.PyPizza(\n",
    "    params=params,                  # list of parameters\n",
    "    min_range=minRange,\n",
    "    max_range=maxRange,\n",
    "    background_color=\"#383838\",     # background color\n",
    "    straight_line_color=\"#222222\",  # color for straight lines\n",
    "    straight_line_lw=1,             # linewidth for straight lines\n",
    "    last_circle_lw=1,               # linewidth of last circle\n",
    "    last_circle_color=\"#222222\",    # color of last circle\n",
    "    other_circle_ls=\"-.\",           # linestyle for other circles\n",
    "    other_circle_lw=1               # linewidth for other circles\n",
    ")\n",
    "\n",
    "# plot pizza\n",
    "fig, ax = baker.make_pizza(\n",
    "    values,                     # list of values\n",
    "    compare_values=values_2,    # comparison values\n",
    "    figsize=(12, 8),             # adjust figsize according to your need\n",
    "    kwargs_slices=dict(\n",
    "        facecolor=\"#1A78CF\", edgecolor=\"#222222\",\n",
    "        zorder=2, linewidth=1\n",
    "    ),                          # values to be used when plotting slices\n",
    "    kwargs_compare=dict(\n",
    "        facecolor=\"#FF9300\", edgecolor=\"#222222\",\n",
    "        zorder=2, linewidth=1,\n",
    "    ),\n",
    "    kwargs_params=dict(\n",
    "        color=\"#ffffff\", fontsize=12,\n",
    "        va=\"center\"\n",
    "    ),                          # values to be used when adding parameter\n",
    "    kwargs_values=dict(\n",
    "        color=\"#000000\", fontsize=12,\n",
    "        zorder=3,\n",
    "        bbox=dict(\n",
    "            edgecolor=\"#000000\", facecolor=\"cornflowerblue\",\n",
    "            boxstyle=\"round,pad=0.2\", lw=1\n",
    "        )\n",
    "    ),                          # values to be used when adding parameter-values labels\n",
    "    kwargs_compare_values=dict(\n",
    "        color=\"#000000\", fontsize=12, zorder=3,\n",
    "        bbox=dict(edgecolor=\"#000000\", facecolor=\"#FF9300\", boxstyle=\"round,pad=0.2\", lw=1)\n",
    "    ),                          # values to be used when adding parameter-values labels\n",
    ")\n",
    "\n",
    "# adjust the texts\n",
    "params_offset = [False, False, False, False, False, True, False]\n",
    "# to adjust text for comparison-values-text pass adj_comp_values=True\n",
    "baker.adjust_texts(params_offset, offset=-0.2)\n",
    "\n",
    "# add title\n",
    "fig_text(\n",
    "    0.515, 0.99, \"<Croatia> vs <League Average>\",\n",
    "    size=20, fig=fig,\n",
    "    highlight_textprops=[{\"color\": '#1A78CF'}, {\"color\": '#FF9300'}],\n",
    "    ha=\"center\", fontproperties=font_bold.prop, color=\"#F2F2F2\"\n",
    ")\n",
    "\n",
    "# add subtitle\n",
    "fig.text(\n",
    "    0.515, 0.932,\n",
    "    \"Attacking Comparison | 2018\",\n",
    "    size=15,\n",
    "    ha=\"center\", color=\"#ffffff\"\n",
    ")"
   ]
  },
  {
   "cell_type": "markdown",
   "metadata": {},
   "source": [
    "## Defensive Comparison | All Teams"
   ]
  },
  {
   "cell_type": "markdown",
   "metadata": {},
   "source": [
    "Defensive Parameters:\n",
    "1. Tackles\n",
    "1. Challenges\n",
    "1. Aerial Duels Won %\n",
    "1. Fouls Committed\n",
    "1. Interceptions\n",
    "1. Pressure"
   ]
  },
  {
   "cell_type": "code",
   "execution_count": null,
   "metadata": {},
   "outputs": [],
   "source": [
    "defParams = [\"Tackles\", \"Challenges\", \"foulsCommitted\",\n",
    "             \"Interceptions\", \"Pressure\"]"
   ]
  },
  {
   "cell_type": "code",
   "execution_count": null,
   "metadata": {},
   "outputs": [],
   "source": [
    "defParamsPerMatch = [col + \"PerMatch\" for col in defParams]"
   ]
  },
  {
   "cell_type": "code",
   "execution_count": null,
   "metadata": {},
   "outputs": [],
   "source": [
    "defParamsPerMatch"
   ]
  },
  {
   "cell_type": "code",
   "execution_count": null,
   "metadata": {},
   "outputs": [],
   "source": [
    "finalDefParams = defParamsPerMatch + [\"aerialWinPer\"]"
   ]
  },
  {
   "cell_type": "code",
   "execution_count": null,
   "metadata": {},
   "outputs": [],
   "source": [
    "eventDataWC18Merged[\"clearance.aerial_won\"].unique()"
   ]
  },
  {
   "cell_type": "code",
   "execution_count": null,
   "metadata": {
    "scrolled": true
   },
   "outputs": [],
   "source": [
    "eventDataWC18Merged.groupby([\"team.id\"]).agg({\"team.name\": \"first\",\n",
    "                                              \"match_id\": \"nunique\",\n",
    "                                              \"duel.type.id\": [lambda x: (x == 11).sum(),\n",
    "                                                               \"count\",\n",
    "                                                               lambda x: (x == 10).sum()],\n",
    "                                              \"clearance.aerial_won\": \"sum\",\n",
    "                                              \"type.id\": [lambda x: (x == 22).sum(),\n",
    "                                                          lambda x: (x == 10).sum(),\n",
    "                                                          lambda x: (x == 17).sum()]})"
   ]
  },
  {
   "cell_type": "code",
   "execution_count": null,
   "metadata": {},
   "outputs": [],
   "source": [
    "allTeamsDefData =\\\n",
    "    eventDataWC18Merged.groupby([\"team.id\"]).agg({\"team.name\": \"first\",\n",
    "                                                  \"match_id\": \"nunique\",\n",
    "                                                  \"duel.type.id\": [lambda x: (x == 11).sum(),\n",
    "                                                                   \"count\",\n",
    "                                                                   lambda x: (x == 10).sum(),],\n",
    "                                                  \"clearance.aerial_won\": \"sum\",\n",
    "                                                  \"type.id\": [lambda x: (x == 22).sum(),\n",
    "                                                              lambda x: (x == 10).sum(),\n",
    "                                                              lambda x: (x == 17).sum()]})"
   ]
  },
  {
   "cell_type": "code",
   "execution_count": null,
   "metadata": {},
   "outputs": [],
   "source": [
    "allTeamsDefData.columns = [\"teamName\", \"nMatches\", \"Tackles\", \"Challenges\",\n",
    "                           \"aerialLost\", \"aerialWon\", \"foulsCommitted\",\n",
    "                           \"Interceptions\", \"Pressure\"]"
   ]
  },
  {
   "cell_type": "code",
   "execution_count": null,
   "metadata": {},
   "outputs": [],
   "source": [
    "allTeamsDefData[\"aerialWinPer\"] = allTeamsDefData[\"aerialWon\"].\\\n",
    "    divide(allTeamsDefData[[\"aerialLost\", \"aerialWon\"]].sum(axis=1)).multiply(100).round(1)"
   ]
  },
  {
   "cell_type": "code",
   "execution_count": null,
   "metadata": {
    "scrolled": true
   },
   "outputs": [],
   "source": [
    "for col in defParams:\n",
    "    allTeamsDefData[col + \"PerMatch\"] = allTeamsDefData[col].divide(allTeamsDefData[\"nMatches\"])"
   ]
  },
  {
   "cell_type": "code",
   "execution_count": null,
   "metadata": {
    "scrolled": true
   },
   "outputs": [],
   "source": [
    "allTeamsDefData"
   ]
  },
  {
   "cell_type": "code",
   "execution_count": null,
   "metadata": {},
   "outputs": [],
   "source": [
    "allTeamsDefData.mean()"
   ]
  },
  {
   "cell_type": "markdown",
   "metadata": {},
   "source": [
    "## Comparison using Pizza Plot"
   ]
  },
  {
   "cell_type": "code",
   "execution_count": null,
   "metadata": {},
   "outputs": [],
   "source": [
    "params = finalDefParams"
   ]
  },
  {
   "cell_type": "code",
   "execution_count": null,
   "metadata": {},
   "outputs": [],
   "source": [
    "pizzaData = pd.DataFrame(index=[\"Croatia\", \"League Avg.\"],\n",
    "                         columns=params)"
   ]
  },
  {
   "cell_type": "code",
   "execution_count": null,
   "metadata": {},
   "outputs": [],
   "source": [
    "allTeamsDefData.loc[croatiaTeamid, params].astype(float)"
   ]
  },
  {
   "cell_type": "code",
   "execution_count": null,
   "metadata": {},
   "outputs": [],
   "source": [
    "\"\"\" Get stats for Croatia \"\"\"\n",
    "pizzaData.loc[\"Croatia\"] = allTeamsDefData.loc[croatiaTeamid, params].astype(float).round(1).tolist()"
   ]
  },
  {
   "cell_type": "code",
   "execution_count": 2,
   "metadata": {
    "scrolled": true
   },
   "outputs": [
    {
     "ename": "NameError",
     "evalue": "name 'allTeamsDefData' is not defined",
     "output_type": "error",
     "traceback": [
      "\u001b[1;31m---------------------------------------------------------------------------\u001b[0m",
      "\u001b[1;31mNameError\u001b[0m                                 Traceback (most recent call last)",
      "\u001b[1;32m<ipython-input-2-ddbf3e5379d5>\u001b[0m in \u001b[0;36m<module>\u001b[1;34m\u001b[0m\n\u001b[1;32m----> 1\u001b[1;33m allTeamsDefData.loc[(allTeamsDefData.index != croatiaTeamid),\n\u001b[0m\u001b[0;32m      2\u001b[0m                                                    params].round(1)\n",
      "\u001b[1;31mNameError\u001b[0m: name 'allTeamsDefData' is not defined"
     ]
    }
   ],
   "source": [
    "allTeamsDefData.loc[(allTeamsDefData.index != croatiaTeamid),\n",
    "                                                   params].round(1)"
   ]
  },
  {
   "cell_type": "code",
   "execution_count": null,
   "metadata": {},
   "outputs": [],
   "source": [
    "allTeamsDefData.loc[(allTeamsDefData.index != croatiaTeamid),\n",
    "                                                   params].mean().round(1).tolist()"
   ]
  },
  {
   "cell_type": "code",
   "execution_count": null,
   "metadata": {},
   "outputs": [],
   "source": [
    "\"\"\" Get stats for Rest of the Teams \"\"\"\n",
    "pizzaData.loc[\"League Avg.\"] = allTeamsDefData.loc[(allTeamsDefData.index != croatiaTeamid),\n",
    "                                                   params].mean().round(1).tolist()"
   ]
  },
  {
   "cell_type": "code",
   "execution_count": null,
   "metadata": {},
   "outputs": [],
   "source": [
    "pizzaData.loc[[\"Croatia\", \"League Avg.\"]].min()"
   ]
  },
  {
   "cell_type": "code",
   "execution_count": null,
   "metadata": {},
   "outputs": [],
   "source": [
    "pizzaData.loc[\"valuesMin\"] = pizzaData.loc[[\"Croatia\", \"League Avg.\"]].min()\n",
    "pizzaData.loc[\"valuesMax\"] = pizzaData.loc[[\"Croatia\", \"League Avg.\"]].max()"
   ]
  },
  {
   "cell_type": "code",
   "execution_count": null,
   "metadata": {},
   "outputs": [],
   "source": [
    "values = pizzaData.loc[\"Croatia\"].tolist()\n",
    "values_2 = pizzaData.loc[\"League Avg.\"].tolist()"
   ]
  },
  {
   "cell_type": "code",
   "execution_count": null,
   "metadata": {},
   "outputs": [],
   "source": [
    "values"
   ]
  },
  {
   "cell_type": "code",
   "execution_count": null,
   "metadata": {},
   "outputs": [],
   "source": [
    "values_2"
   ]
  },
  {
   "cell_type": "code",
   "execution_count": null,
   "metadata": {},
   "outputs": [],
   "source": [
    "allTeamsDefData[params].min()"
   ]
  },
  {
   "cell_type": "code",
   "execution_count": null,
   "metadata": {},
   "outputs": [],
   "source": [
    "minRange = allTeamsDefData[params].min().tolist()\n",
    "maxRange = allTeamsDefData[params].max().tolist()"
   ]
  },
  {
   "cell_type": "code",
   "execution_count": null,
   "metadata": {},
   "outputs": [],
   "source": [
    "minRange"
   ]
  },
  {
   "cell_type": "code",
   "execution_count": null,
   "metadata": {},
   "outputs": [],
   "source": [
    "maxRange"
   ]
  },
  {
   "cell_type": "code",
   "execution_count": null,
   "metadata": {},
   "outputs": [],
   "source": [
    "params"
   ]
  },
  {
   "cell_type": "code",
   "execution_count": null,
   "metadata": {
    "scrolled": false
   },
   "outputs": [],
   "source": [
    "# instantiate PyPizza class\n",
    "baker = mplsoccer.PyPizza(\n",
    "    params=params,                  # list of parameters\n",
    "    min_range=minRange,\n",
    "    max_range=maxRange,\n",
    "    background_color=\"#383838\",     # background color\n",
    "    straight_line_color=\"#222222\",  # color for straight lines\n",
    "    last_circle_lw=1,               # linewidth of last circle\n",
    "    last_circle_color=\"#222222\",    # color of last circle\n",
    "    other_circle_lw=0               # linewidth for other circles\n",
    ")\n",
    "\n",
    "# plot pizza\n",
    "fig, ax = baker.make_pizza(\n",
    "    values,                     # list of values\n",
    "    compare_values=values_2,    # comparison values\n",
    "    figsize=(12, 8),             # adjust figsize according to your need\n",
    "    kwargs_slices=dict(\n",
    "        facecolor=\"#1A78CF\", edgecolor=\"#222222\",\n",
    "        zorder=2, linewidth=1\n",
    "    ),                          # values to be used when plotting slices\n",
    "    kwargs_compare=dict(\n",
    "        facecolor=\"#FF9300\", edgecolor=\"#222222\",\n",
    "        zorder=2, linewidth=1,\n",
    "    ),\n",
    "    kwargs_params=dict(\n",
    "        color=\"#ffffff\", fontsize=12,\n",
    "        va=\"center\"\n",
    "    ),                          # values to be used when adding parameter\n",
    "    kwargs_values=dict(\n",
    "        color=\"#000000\", fontsize=12,\n",
    "        zorder=3,\n",
    "        bbox=dict(\n",
    "            edgecolor=\"#000000\", facecolor=\"cornflowerblue\",\n",
    "            boxstyle=\"round,pad=0.2\", lw=1\n",
    "        )\n",
    "    ),                          # values to be used when adding parameter-values labels\n",
    "    kwargs_compare_values=dict(\n",
    "        color=\"#000000\", fontsize=12, zorder=3,\n",
    "        bbox=dict(edgecolor=\"#000000\", facecolor=\"#FF9300\", boxstyle=\"round,pad=0.2\", lw=1)\n",
    "    ),                          # values to be used when adding parameter-values labels\n",
    ")\n",
    "\n",
    "# adjust the texts\n",
    "params_offset = [False, True, False, False, False, False]\n",
    "# to adjust text for comparison-values-text pass adj_comp_values=True\n",
    "baker.adjust_texts(params_offset, offset=-0.2)\n",
    "\n",
    "# add title\n",
    "fig_text(\n",
    "    0.515, 0.99, \"<Croatia> vs <League Average>\",\n",
    "    size=20, fig=fig,\n",
    "    highlight_textprops=[{\"color\": '#1A78CF'}, {\"color\": '#FF9300'}],\n",
    "    ha=\"center\", fontproperties=font_bold.prop, color=\"#F2F2F2\"\n",
    ")\n",
    "\n",
    "# add subtitle\n",
    "fig.text(\n",
    "    0.515, 0.932,\n",
    "    \"Defensive Comparison | 2018\",\n",
    "    size=15,\n",
    "    ha=\"center\", color=\"#ffffff\"\n",
    ")"
   ]
  },
  {
   "cell_type": "markdown",
   "metadata": {},
   "source": [
    "# Comparison Analysis | Other Underdogs"
   ]
  },
  {
   "cell_type": "markdown",
   "metadata": {},
   "source": [
    "## Who are the Underdogs?"
   ]
  },
  {
   "cell_type": "markdown",
   "metadata": {},
   "source": [
    "Let's consider teams who have never won the WC as Underdogs"
   ]
  },
  {
   "cell_type": "code",
   "execution_count": null,
   "metadata": {},
   "outputs": [],
   "source": [
    "eventDataWC18Merged[\"team.name\"].unique()"
   ]
  },
  {
   "cell_type": "code",
   "execution_count": null,
   "metadata": {},
   "outputs": [],
   "source": [
    "underdogsList = ['Croatia', 'Denmark', 'Nigeria', 'Iceland', 'Poland', 'Colombia',\n",
    "                 'Costa Rica', 'Mexico', 'Australia', 'Peru', 'Serbia', 'Senegal',\n",
    "                 'Panama', 'Tunisia', 'Switzerland', 'Russia', 'Belgium', 'Japan',\n",
    "                 'Egypt', 'Saudi Arabia', 'South Korea', 'Morocco', 'Portugal',\n",
    "                 'Iran', 'Sweden']"
   ]
  },
  {
   "cell_type": "markdown",
   "metadata": {},
   "source": [
    "## Attacking Comparison"
   ]
  },
  {
   "cell_type": "code",
   "execution_count": null,
   "metadata": {},
   "outputs": [],
   "source": [
    "udEventData = eventDataWC18Merged[eventDataWC18Merged[\"team.name\"].isin(underdogsList)]"
   ]
  },
  {
   "cell_type": "code",
   "execution_count": null,
   "metadata": {},
   "outputs": [],
   "source": [
    "allTeamsAttData =\\\n",
    "    udEventData.groupby([\"team.id\"]).agg({\"team.name\": \"first\",\n",
    "                                            \"match_id\": \"nunique\",\n",
    "                                            \"shot.outcome.id\": [lambda x: (x == 97).sum(),\n",
    "                                                                lambda x: x.isin([97, 100]).sum(),\n",
    "                                                                \"count\"],\n",
    "                                            \"shot.statsbomb_xg\": \"sum\",\n",
    "                                            \"type.id\": lambda x: (x == 21).sum()})"
   ]
  },
  {
   "cell_type": "code",
   "execution_count": null,
   "metadata": {},
   "outputs": [],
   "source": [
    "allTeamsAttData.columns = [\"teamName\", \"nMatches\", \"Goals\", \"shotsOT\", \"totShots\", \"xG\", \"foulsWon\"]"
   ]
  },
  {
   "cell_type": "code",
   "execution_count": null,
   "metadata": {},
   "outputs": [],
   "source": [
    "allTeamsAttData[\"shotAcc\"] = allTeamsAttData[\"shotsOT\"].\\\n",
    "    divide(allTeamsAttData[\"totShots\"]).multiply(100).round(1)"
   ]
  },
  {
   "cell_type": "code",
   "execution_count": null,
   "metadata": {},
   "outputs": [],
   "source": [
    "allTeamsAttData[\"gcRate\"] = allTeamsAttData[\"Goals\"]\\\n",
    "    .divide(allTeamsAttData[\"totShots\"]).multiply(100).round(1)"
   ]
  },
  {
   "cell_type": "code",
   "execution_count": null,
   "metadata": {
    "scrolled": true
   },
   "outputs": [],
   "source": [
    "for col in attParams:\n",
    "    allTeamsAttData[col + \"PerMatch\"] = allTeamsAttData[col].divide(allTeamsAttData[\"nMatches\"])"
   ]
  },
  {
   "cell_type": "markdown",
   "metadata": {},
   "source": [
    "### Analysing using Pizza Plot"
   ]
  },
  {
   "cell_type": "code",
   "execution_count": null,
   "metadata": {},
   "outputs": [],
   "source": [
    "params = finalAttParams"
   ]
  },
  {
   "cell_type": "code",
   "execution_count": null,
   "metadata": {},
   "outputs": [],
   "source": [
    "pizzaData = pd.DataFrame(index=[\"Croatia\", \"League Avg.\"],\n",
    "                         columns=params)"
   ]
  },
  {
   "cell_type": "code",
   "execution_count": null,
   "metadata": {},
   "outputs": [],
   "source": [
    "\"\"\" Get stats for Croatia \"\"\"\n",
    "pizzaData.loc[\"Croatia\"] = allTeamsAttData.loc[croatiaTeamid, params].astype(float).round(1).tolist()"
   ]
  },
  {
   "cell_type": "code",
   "execution_count": null,
   "metadata": {},
   "outputs": [],
   "source": [
    "\"\"\" Get stats for Rest of the Teams \"\"\"\n",
    "pizzaData.loc[\"League Avg.\"] = allTeamsAttData.loc[(allTeamsAttData.index != croatiaTeamid),\n",
    "                                                   params].mean().round(1).tolist()"
   ]
  },
  {
   "cell_type": "code",
   "execution_count": null,
   "metadata": {},
   "outputs": [],
   "source": [
    "values = pizzaData.loc[\"Croatia\"].tolist()\n",
    "values_2 = pizzaData.loc[\"League Avg.\"].tolist()"
   ]
  },
  {
   "cell_type": "code",
   "execution_count": null,
   "metadata": {},
   "outputs": [],
   "source": [
    "minRange = allTeamsAttData[params].min().tolist()\n",
    "maxRange = allTeamsAttData[params].max().tolist()"
   ]
  },
  {
   "cell_type": "code",
   "execution_count": null,
   "metadata": {
    "scrolled": false
   },
   "outputs": [],
   "source": [
    "# instantiate PyPizza class\n",
    "baker = mplsoccer.PyPizza(\n",
    "    params=params,                  # list of parameters\n",
    "    min_range=minRange,\n",
    "    max_range=maxRange,\n",
    "    background_color=\"#383838\",     # background color\n",
    "    straight_line_color=\"#222222\",  # color for straight lines\n",
    "    straight_line_lw=1,             # linewidth for straight lines\n",
    "    last_circle_lw=1,               # linewidth of last circle\n",
    "    last_circle_color=\"#222222\",    # color of last circle\n",
    "    other_circle_ls=\"-.\",           # linestyle for other circles\n",
    "    other_circle_lw=1               # linewidth for other circles\n",
    ")\n",
    "\n",
    "# plot pizza\n",
    "fig, ax = baker.make_pizza(\n",
    "    values,                     # list of values\n",
    "    compare_values=values_2,    # comparison values\n",
    "    figsize=(12, 8),             # adjust figsize according to your need\n",
    "    kwargs_slices=dict(\n",
    "        facecolor=\"#1A78CF\", edgecolor=\"#222222\",\n",
    "        zorder=2, linewidth=1\n",
    "    ),                          # values to be used when plotting slices\n",
    "    kwargs_compare=dict(\n",
    "        facecolor=\"#FF9300\", edgecolor=\"#222222\",\n",
    "        zorder=2, linewidth=1,\n",
    "    ),\n",
    "    kwargs_params=dict(\n",
    "        color=\"#ffffff\", fontsize=12,\n",
    "        va=\"center\"\n",
    "    ),                          # values to be used when adding parameter\n",
    "    kwargs_values=dict(\n",
    "        color=\"#000000\", fontsize=12,\n",
    "        zorder=3,\n",
    "        bbox=dict(\n",
    "            edgecolor=\"#000000\", facecolor=\"cornflowerblue\",\n",
    "            boxstyle=\"round,pad=0.2\", lw=1\n",
    "        )\n",
    "    ),                          # values to be used when adding parameter-values labels\n",
    "    kwargs_compare_values=dict(\n",
    "        color=\"#000000\", fontsize=12, zorder=3,\n",
    "        bbox=dict(edgecolor=\"#000000\", facecolor=\"#FF9300\", boxstyle=\"round,pad=0.2\", lw=1)\n",
    "    ),                          # values to be used when adding parameter-values labels\n",
    ")\n",
    "\n",
    "# add title\n",
    "fig_text(\n",
    "    0.515, 0.99, \"<Croatia> vs <Underdog Average>\",\n",
    "    size=20, fig=fig,\n",
    "    highlight_textprops=[{\"color\": '#1A78CF'}, {\"color\": '#FF9300'}],\n",
    "    ha=\"center\", color=\"#F2F2F2\"\n",
    ")\n",
    "\n",
    "# add subtitle\n",
    "fig.text(\n",
    "    0.515, 0.932,\n",
    "    \"Attacking Comparison | 2018\",\n",
    "    size=15,\n",
    "    ha=\"center\", color=\"#ffffff\"\n",
    ")"
   ]
  },
  {
   "cell_type": "markdown",
   "metadata": {},
   "source": [
    "## Defensive Comparison"
   ]
  },
  {
   "cell_type": "code",
   "execution_count": null,
   "metadata": {},
   "outputs": [],
   "source": [
    "allTeamsDefData =\\\n",
    "    udEventData.groupby([\"team.id\"]).agg({\"team.name\": \"first\",\n",
    "                                                  \"match_id\": \"nunique\",\n",
    "                                                  \"duel.type.id\": [lambda x: (x == 11).sum(),\n",
    "                                                                   \"count\",\n",
    "                                                                   lambda x: (x == 10).sum(),],\n",
    "                                                  \"clearance.aerial_won\": \"sum\",\n",
    "                                                  \"type.id\": [lambda x: (x == 22).sum(),\n",
    "                                                              lambda x: (x == 10).sum(),\n",
    "                                                              lambda x: (x == 17).sum()]})"
   ]
  },
  {
   "cell_type": "code",
   "execution_count": null,
   "metadata": {},
   "outputs": [],
   "source": [
    "allTeamsDefData.columns = [\"teamName\", \"nMatches\", \"Tackles\", \"Challenges\",\n",
    "                           \"aerialLost\", \"aerialWon\", \"foulsCommitted\",\n",
    "                           \"Interceptions\", \"Pressure\"]"
   ]
  },
  {
   "cell_type": "code",
   "execution_count": null,
   "metadata": {},
   "outputs": [],
   "source": [
    "allTeamsDefData[\"aerialWinPer\"] = allTeamsDefData[\"aerialWon\"].\\\n",
    "    divide(allTeamsDefData[[\"aerialLost\", \"aerialWon\"]].sum(axis=1)).multiply(100).round(1)"
   ]
  },
  {
   "cell_type": "code",
   "execution_count": null,
   "metadata": {
    "scrolled": true
   },
   "outputs": [],
   "source": [
    "for col in defParams:\n",
    "    allTeamsDefData[col + \"PerMatch\"] = allTeamsDefData[col].divide(allTeamsDefData[\"nMatches\"])"
   ]
  },
  {
   "cell_type": "markdown",
   "metadata": {},
   "source": [
    "### Analysing using Pizza Plot"
   ]
  },
  {
   "cell_type": "code",
   "execution_count": null,
   "metadata": {},
   "outputs": [],
   "source": [
    "params = finalDefParams"
   ]
  },
  {
   "cell_type": "code",
   "execution_count": null,
   "metadata": {},
   "outputs": [],
   "source": [
    "pizzaData = pd.DataFrame(index=[\"Croatia\", \"League Avg.\"],\n",
    "                         columns=params)"
   ]
  },
  {
   "cell_type": "code",
   "execution_count": null,
   "metadata": {},
   "outputs": [],
   "source": [
    "\"\"\" Get stats for Croatia \"\"\"\n",
    "pizzaData.loc[\"Croatia\"] = allTeamsDefData.loc[croatiaTeamid, params].astype(float).round(1).tolist()"
   ]
  },
  {
   "cell_type": "code",
   "execution_count": null,
   "metadata": {},
   "outputs": [],
   "source": [
    "\"\"\" Get stats for Rest of the Teams \"\"\"\n",
    "pizzaData.loc[\"League Avg.\"] = allTeamsDefData.loc[(allTeamsDefData.index != croatiaTeamid),\n",
    "                                                   params].mean().round(1).tolist()"
   ]
  },
  {
   "cell_type": "code",
   "execution_count": null,
   "metadata": {},
   "outputs": [],
   "source": [
    "values = pizzaData.loc[\"Croatia\"].tolist()\n",
    "values_2 = pizzaData.loc[\"League Avg.\"].tolist()"
   ]
  },
  {
   "cell_type": "code",
   "execution_count": null,
   "metadata": {},
   "outputs": [],
   "source": [
    "minRange = allTeamsDefData[params].min().tolist()\n",
    "maxRange = allTeamsDefData[params].max().tolist()"
   ]
  },
  {
   "cell_type": "code",
   "execution_count": null,
   "metadata": {
    "scrolled": false
   },
   "outputs": [],
   "source": [
    "# instantiate PyPizza class\n",
    "baker = mplsoccer.PyPizza(\n",
    "    params=params,                  # list of parameters\n",
    "    min_range=minRange,\n",
    "    max_range=maxRange,\n",
    "    background_color=\"#383838\",     # background color\n",
    "    straight_line_color=\"#222222\",  # color for straight lines\n",
    "    last_circle_lw=1,               # linewidth of last circle\n",
    "    last_circle_color=\"#222222\",    # color of last circle\n",
    "    other_circle_lw=0               # linewidth for other circles\n",
    ")\n",
    "\n",
    "# plot pizza\n",
    "fig, ax = baker.make_pizza(\n",
    "    values,                     # list of values\n",
    "    compare_values=values_2,    # comparison values\n",
    "    figsize=(12, 8),             # adjust figsize according to your need\n",
    "    kwargs_slices=dict(\n",
    "        facecolor=\"#1A78CF\", edgecolor=\"#222222\",\n",
    "        zorder=2, linewidth=1\n",
    "    ),                          # values to be used when plotting slices\n",
    "    kwargs_compare=dict(\n",
    "        facecolor=\"#FF9300\", edgecolor=\"#222222\",\n",
    "        zorder=2, linewidth=1,\n",
    "    ),\n",
    "    kwargs_params=dict(\n",
    "        color=\"#ffffff\", fontsize=12,\n",
    "        va=\"center\"\n",
    "    ),                          # values to be used when adding parameter\n",
    "    kwargs_values=dict(\n",
    "        color=\"#000000\", fontsize=12,\n",
    "        zorder=3,\n",
    "        bbox=dict(\n",
    "            edgecolor=\"#000000\", facecolor=\"cornflowerblue\",\n",
    "            boxstyle=\"round,pad=0.2\", lw=1\n",
    "        )\n",
    "    ),                          # values to be used when adding parameter-values labels\n",
    "    kwargs_compare_values=dict(\n",
    "        color=\"#000000\", fontsize=12, zorder=3,\n",
    "        bbox=dict(edgecolor=\"#000000\", facecolor=\"#FF9300\", boxstyle=\"round,pad=0.2\", lw=1)\n",
    "    ),                          # values to be used when adding parameter-values labels\n",
    ")\n",
    "\n",
    "# add title\n",
    "fig_text(\n",
    "    0.515, 0.99, \"<Croatia> vs <Underdog Average>\",\n",
    "    size=20, fig=fig,\n",
    "    highlight_textprops=[{\"color\": '#1A78CF'}, {\"color\": '#FF9300'}],\n",
    "    ha=\"center\", fontproperties=font_bold.prop, color=\"#F2F2F2\"\n",
    ")\n",
    "\n",
    "# add subtitle\n",
    "fig.text(\n",
    "    0.515, 0.932,\n",
    "    \"Defensive Comparison | 2018\",\n",
    "    size=15,\n",
    "    ha=\"center\", color=\"#ffffff\"\n",
    ")"
   ]
  },
  {
   "cell_type": "code",
   "execution_count": null,
   "metadata": {},
   "outputs": [],
   "source": []
  }
 ],
 "metadata": {
  "kernelspec": {
   "display_name": "Python 3",
   "language": "python",
   "name": "python3"
  },
  "language_info": {
   "codemirror_mode": {
    "name": "ipython",
    "version": 3
   },
   "file_extension": ".py",
   "mimetype": "text/x-python",
   "name": "python",
   "nbconvert_exporter": "python",
   "pygments_lexer": "ipython3",
   "version": "3.8.3"
  },
  "toc": {
   "base_numbering": 1,
   "nav_menu": {},
   "number_sections": true,
   "sideBar": true,
   "skip_h1_title": false,
   "title_cell": "Table of Contents",
   "title_sidebar": "Contents",
   "toc_cell": false,
   "toc_position": {
    "height": "calc(100% - 180px)",
    "left": "10px",
    "top": "150px",
    "width": "281.6px"
   },
   "toc_section_display": true,
   "toc_window_display": true
  }
 },
 "nbformat": 4,
 "nbformat_minor": 2
}

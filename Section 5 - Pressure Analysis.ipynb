{
 "cells": [
  {
   "cell_type": "markdown",
   "metadata": {},
   "source": [
    "# What is Pressure in Football?"
   ]
  },
  {
   "cell_type": "markdown",
   "metadata": {},
   "source": [
    "According to [Wikipedia](https://en.wikipedia.org/wiki/Glossary_of_association_football_terms#P), **Pressing**\n",
    "is a tactic of **defending players moving forward towards the ball, rather than remaining in position** near their goal. They may pressure the player that has the ball or get close to other opponents in order to remove passing options. A successful press will recover the ball quickly and further up the pitch, or force the opponents to make an inaccurate long kick. However, if the opponents are able to pass the ball forward, fewer defending players are protecting the goal, making pressing a high-risk, high-reward strategy."
   ]
  },
  {
   "cell_type": "markdown",
   "metadata": {},
   "source": [
    "According to [Soccer Pilot](https://www.soccerpilot.com/tactic/articles/soccer-tactic-types-of-pressing.html), there are three types of pressing, namely, Midfield, High and Low."
   ]
  },
  {
   "cell_type": "code",
   "execution_count": null,
   "metadata": {},
   "outputs": [],
   "source": [
    "from IPython.display import Image"
   ]
  },
  {
   "cell_type": "code",
   "execution_count": null,
   "metadata": {},
   "outputs": [],
   "source": [
    "Image(\"../pics/soccer-midfield-pressing.jpg\")  # PC: Soccer Pilot"
   ]
  },
  {
   "cell_type": "code",
   "execution_count": null,
   "metadata": {},
   "outputs": [],
   "source": [
    "Image(\"../pics/high-pressure-soccer-2.jpg\")  # PC: Soccer Pilot"
   ]
  },
  {
   "cell_type": "code",
   "execution_count": null,
   "metadata": {},
   "outputs": [],
   "source": [
    "Image(\"../pics/low-pressure-soccer.jpg\")  # PC: Soccer Pilot"
   ]
  },
  {
   "cell_type": "markdown",
   "metadata": {},
   "source": [
    "# Import Required Libraries"
   ]
  },
  {
   "cell_type": "code",
   "execution_count": null,
   "metadata": {},
   "outputs": [],
   "source": [
    "# Data Manipulation libraries:\n",
    "import numpy as np\n",
    "import pandas as pd\n",
    "from copy import deepcopy\n",
    "\n",
    "# Plotting libraries\n",
    "import mplsoccer\n",
    "import seaborn as sns\n",
    "import plotly.express as px\n",
    "import matplotlib.pyplot as plt\n",
    "import plotly.graph_objects as go\n",
    "import matplotlib.patheffects as path_effects\n",
    "\n",
    "from matplotlib.patches import Arc\n",
    "from plotly.subplots import make_subplots\n",
    "from matplotlib.backends.backend_pdf import PdfPages\n",
    "from matplotlib.projections import get_projection_class"
   ]
  },
  {
   "cell_type": "markdown",
   "metadata": {},
   "source": [
    "# Load the Data"
   ]
  },
  {
   "cell_type": "code",
   "execution_count": null,
   "metadata": {},
   "outputs": [],
   "source": [
    "eventDataLL1920 = pd.read_csv(\"../data/matchwise_events_data_updated.csv\",\n",
    "                              low_memory=False)"
   ]
  },
  {
   "cell_type": "code",
   "execution_count": null,
   "metadata": {},
   "outputs": [],
   "source": [
    "pd.set_option(\"display.max_columns\", 50)\n",
    "pd.set_option(\"display.max_rows\", 100)"
   ]
  },
  {
   "cell_type": "markdown",
   "metadata": {},
   "source": [
    "# Data Preparation"
   ]
  },
  {
   "cell_type": "code",
   "execution_count": null,
   "metadata": {},
   "outputs": [],
   "source": [
    "eventDataLL1920.columns[eventDataLL1920.columns.str.contains(\"pressure\")]"
   ]
  },
  {
   "cell_type": "code",
   "execution_count": null,
   "metadata": {
    "scrolled": true
   },
   "outputs": [],
   "source": [
    "eventDataLL1920[[\"type.id\", \"type.name\"]].drop_duplicates()"
   ]
  },
  {
   "cell_type": "code",
   "execution_count": null,
   "metadata": {},
   "outputs": [],
   "source": [
    "eventDataLL1920[eventDataLL1920[\"type.id\"] == 17]"
   ]
  },
  {
   "cell_type": "code",
   "execution_count": null,
   "metadata": {},
   "outputs": [],
   "source": [
    "eventDataLL1920[eventDataLL1920[\"type.id\"] == 17].iloc[0].values"
   ]
  },
  {
   "cell_type": "code",
   "execution_count": null,
   "metadata": {},
   "outputs": [],
   "source": [
    "\"\"\"\n",
    "Separate out the X and Y coordinates for pressure location\n",
    "\"\"\"\n",
    "# Start location for any action:\n",
    "eventDataLL1920[\"startX\"] = eventDataLL1920[\"location\"]\\\n",
    "    .str.split(\", \", expand=True)[0].str[1:].apply(pd.to_numeric)\n",
    "eventDataLL1920[\"startY\"] = eventDataLL1920[\"location\"]\\\n",
    "    .str.split(\", \", expand=True)[1].str[:-1].apply(pd.to_numeric)"
   ]
  },
  {
   "cell_type": "code",
   "execution_count": null,
   "metadata": {},
   "outputs": [],
   "source": [
    "pressureDataLL1920 = deepcopy(eventDataLL1920[eventDataLL1920[\"type.id\"] == 17])"
   ]
  },
  {
   "cell_type": "markdown",
   "metadata": {},
   "source": [
    "# Generating Pressure Maps"
   ]
  },
  {
   "cell_type": "code",
   "execution_count": null,
   "metadata": {},
   "outputs": [],
   "source": [
    "# Set the Pitch Parameters:\n",
    "pitch = mplsoccer.VerticalPitch(pitch_color='#383838', line_zorder=2, line_color='#ffffff')\n",
    "# Draw the pitch according to the set Pitch Parameters:\n",
    "fig, ax = pitch.draw(figsize=(4, 6))"
   ]
  },
  {
   "cell_type": "code",
   "execution_count": null,
   "metadata": {},
   "outputs": [],
   "source": [
    "\"\"\" Distribution of Pressure on a Pitch Map \"\"\"\n",
    "# Set the Pitch Parameters:\n",
    "pitch = mplsoccer.VerticalPitch(pitch_color='#101010', line_zorder=2, line_color='#ffffff')\n",
    "# Draw the pitch according to the set Pitch Parameters:\n",
    "fig, ax = pitch.draw(figsize=(4, 6))\n",
    "\n",
    "# Calculating the pressure difference\n",
    "\"\"\"\n",
    "The 'pitch.bin_statistic_positional' function\n",
    "calculates binned statistics for the Juego de posición (position game) concept.\n",
    "It uses scipy.stats.binned_statistic_2d.\n",
    "\"\"\"\n",
    "bin_statistic = pitch.bin_statistic_positional(x=pressureDataLL1920[\"startX\"],\n",
    "                                               y=pressureDataLL1920[\"startY\"],\n",
    "                                               statistic='count',\n",
    "                                               positional='horizontal',\n",
    "                                               normalize=True)\n"
   ]
  },
  {
   "cell_type": "code",
   "execution_count": null,
   "metadata": {},
   "outputs": [],
   "source": [
    "bin_statistic"
   ]
  },
  {
   "cell_type": "code",
   "execution_count": null,
   "metadata": {},
   "outputs": [],
   "source": [
    "\"\"\" Distribution of Pressure on a Pitch Map \"\"\"\n",
    "# Set the Pitch Parameters:\n",
    "pitch = mplsoccer.VerticalPitch(pitch_color='#101010', line_zorder=2, line_color='#ffffff')\n",
    "# Draw the pitch according to the set Pitch Parameters:\n",
    "fig, ax = pitch.draw(figsize=(4, 6))\n",
    "\n",
    "# Calculating the pressure difference\n",
    "\"\"\"\n",
    "The 'pitch.bin_statistic_positional' function\n",
    "calculates binned statistics for the Juego de posición (position game) concept.\n",
    "It uses scipy.stats.binned_statistic_2d.\n",
    "\"\"\"\n",
    "bin_statistic = pitch.bin_statistic_positional(pressureDataLL1920[\"startX\"],\n",
    "                                               pressureDataLL1920[\"startY\"],\n",
    "                                               statistic='count',\n",
    "                                               positional='horizontal',\n",
    "                                               normalize=True)\n",
    "# Plot the Heatmap according to the positions selected above\n",
    "pitch.heatmap_positional(bin_statistic,\n",
    "                         ax=ax,\n",
    "                         cmap='coolwarm',\n",
    "                         edgecolors='#22312b')"
   ]
  },
  {
   "cell_type": "code",
   "execution_count": null,
   "metadata": {},
   "outputs": [],
   "source": [
    "\"\"\" Distribution of Pressure on a Pitch Map \"\"\"\n",
    "# Set the Pitch Parameters:\n",
    "pitch = mplsoccer.VerticalPitch(pitch_color='#101010', line_zorder=2, line_color='#ffffff')\n",
    "# Draw the pitch according to the set Pitch Parameters:\n",
    "fig, ax = pitch.draw(figsize=(4, 6))\n",
    "\n",
    "# Calculating the pressure difference\n",
    "\"\"\"\n",
    "The 'pitch.bin_statistic_positional' function\n",
    "calculates binned statistics for the Juego de posición (position game) concept.\n",
    "It uses scipy.stats.binned_statistic_2d.\n",
    "\"\"\"\n",
    "bin_statistic = pitch.bin_statistic_positional(pressureDataLL1920[\"startX\"],\n",
    "                                               pressureDataLL1920[\"startY\"],\n",
    "                                               statistic='count',\n",
    "                                               positional='vertical',\n",
    "                                               normalize=True)\n",
    "# Plot the Heatmap according to the positions selected above\n",
    "pitch.heatmap_positional(bin_statistic,\n",
    "                         ax=ax,\n",
    "                         cmap='coolwarm',\n",
    "                         edgecolors='#22312b')\n",
    "# Plot the points at the exact location of where the pressure was applied:\n",
    "pitch.scatter(pressureDataLL1920[\"startX\"],\n",
    "              pressureDataLL1920[\"startY\"],\n",
    "              c='white', s=1, ax=ax, alpha=0.5)"
   ]
  },
  {
   "cell_type": "code",
   "execution_count": null,
   "metadata": {},
   "outputs": [],
   "source": [
    "path_eff = [path_effects.Stroke(linewidth=3, foreground='black'),\n",
    "            path_effects.Normal()]"
   ]
  },
  {
   "cell_type": "code",
   "execution_count": null,
   "metadata": {},
   "outputs": [],
   "source": [
    "path_eff"
   ]
  },
  {
   "cell_type": "code",
   "execution_count": null,
   "metadata": {},
   "outputs": [],
   "source": [
    "\"\"\" Distribution of Pressure on a Pitch Map \"\"\"\n",
    "# Set the Pitch Parameters:\n",
    "pitch = mplsoccer.VerticalPitch(pitch_color='#101010', line_zorder=2, line_color='#ffffff')\n",
    "# Draw the pitch according to the set Pitch Parameters:\n",
    "fig, ax = pitch.draw(figsize=(4, 6))\n",
    "\n",
    "# Calculating the pressure difference\n",
    "\"\"\"\n",
    "The 'pitch.bin_statistic_positional' function\n",
    "calculates binned statistics for the Juego de posición (position game) concept.\n",
    "It uses scipy.stats.binned_statistic_2d.\n",
    "\"\"\"\n",
    "bin_statistic = pitch.bin_statistic_positional(pressureDataLL1920[\"startX\"],\n",
    "                                               pressureDataLL1920[\"startY\"],\n",
    "                                               statistic='count',\n",
    "                                               positional='vertical',\n",
    "                                               normalize=True)\n",
    "# Plot the Heatmap according to the positions selected above\n",
    "pitch.heatmap_positional(bin_statistic,\n",
    "                         ax=ax,\n",
    "                         cmap='coolwarm',\n",
    "                         edgecolors='#22312b')\n",
    "# Plot the points at the exact location of where the pressure was applied:\n",
    "pitch.scatter(pressureDataLL1920[\"startX\"],\n",
    "              pressureDataLL1920[\"startY\"],\n",
    "              c='white', s=2, ax=ax, alpha=0.5)\n",
    "# Add the Distribution count for each section of the pitch:\n",
    "labels = pitch.label_heatmap(bin_statistic, color='white', fontsize=20,\n",
    "                             ax=ax, ha='center', va='center',\n",
    "                             str_format='{:.0%}', path_effects=path_eff)"
   ]
  },
  {
   "cell_type": "markdown",
   "metadata": {},
   "source": [
    "NOTE: In case you would like to know more about path effects, kindly check out [Matplotlib Path Effects Docs](https://matplotlib.org/stable/tutorials/advanced/patheffects_guide.html)"
   ]
  },
  {
   "cell_type": "markdown",
   "metadata": {},
   "source": [
    "## Different types of Positional Sections"
   ]
  },
  {
   "cell_type": "code",
   "execution_count": null,
   "metadata": {},
   "outputs": [],
   "source": [
    "\"\"\"\n",
    "Distribution of Pressure on a Pitch Map \n",
    "(Horizontal, Vertical and Full)\n",
    "\"\"\"\n",
    "\n",
    "# Set the Pitch Parameters:\n",
    "pitch = mplsoccer.VerticalPitch(pitch_color='#101010', line_zorder=2, line_color='#ffffff')\n",
    "# Draw the pitch according to the set Pitch Parameters:\n",
    "fig, axs = pitch.grid(nrows=1, ncols=3, title_height=0.08,\n",
    "                     axis=False)\n",
    "\n",
    "pitchPos = [\"horizontal\", \"vertical\", \"full\"]\n",
    "for idx, ax in enumerate(axs[\"pitch\"]):\n",
    "    pos = pitchPos[idx]\n",
    "    # Calculating the pressure difference\n",
    "    bin_statistic = pitch.bin_statistic_positional(pressureDataLL1920[\"startX\"],\n",
    "                                                   pressureDataLL1920[\"startY\"],\n",
    "                                                   statistic='count',\n",
    "                                                   positional=pos,\n",
    "                                                   normalize=True)\n",
    "    # Plot the Heatmap according to the positions selected above\n",
    "    pitch.heatmap_positional(bin_statistic,\n",
    "                             ax=ax,\n",
    "                             cmap='coolwarm',\n",
    "                             edgecolors='#22312b')\n",
    "    # Plot the points at the exact location of where the pressure was applied:\n",
    "    pitch.scatter(pressureDataLL1920[\"startX\"],\n",
    "                  pressureDataLL1920[\"startY\"],\n",
    "                  c='white', s=1, ax=ax, alpha=0.3)\n",
    "    # Add the Distribution count for each section of the pitch:\n",
    "    labels = pitch.label_heatmap(bin_statistic, color='white', fontsize=20,\n",
    "                                 ax=ax, ha='center', va='center',\n",
    "                                 str_format='{:.0%}', path_effects=path_eff)\n",
    "    axs['title'].text(0.5, 0.5, \"Positional Pressure Maps\", color='#dee6ea',\n",
    "                  va='center', ha='center', path_effects=path_eff,\n",
    "                  fontsize=25)\n",
    "    ax.set_title(pos.capitalize())\n",
    "    "
   ]
  },
  {
   "cell_type": "code",
   "execution_count": null,
   "metadata": {},
   "outputs": [],
   "source": [
    "pitch = mplsoccer.VerticalPitch(line_color='#000009',\n",
    "                                pitch_color='white',\n",
    "                                line_zorder=2)\n",
    "fig, ax = pitch.draw(figsize=(4, 6))\n",
    "hexmap = pitch.hexbin(pressureDataLL1920[\"startX\"],\n",
    "                      pressureDataLL1920[\"startY\"],\n",
    "                      ax=ax, edgecolors='#f4f4f4',\n",
    "                      gridsize=(5, 5), cmap=\"Reds\")"
   ]
  },
  {
   "cell_type": "markdown",
   "metadata": {},
   "source": [
    "# Analysing Pressure Maps"
   ]
  },
  {
   "cell_type": "markdown",
   "metadata": {},
   "source": [
    "## Team-wise"
   ]
  },
  {
   "cell_type": "code",
   "execution_count": null,
   "metadata": {
    "scrolled": false
   },
   "outputs": [],
   "source": [
    "\"\"\" Distribution of Pressure on a Pitch Map \"\"\"\n",
    "# Set the Pitch Parameters:\n",
    "pitch = mplsoccer.VerticalPitch(pitch_color='#101010',\n",
    "                                line_color='#ffffff',\n",
    "                                line_zorder=2)\n",
    "# Draw the pitch grid according to the set Pitch Parameters:\n",
    "fig, axs = pitch.grid(nrows=5, ncols=4,\n",
    "                      axis=False, figheight=40,\n",
    "                     space=0.1, grid_height=0.98, grid_width=0.9,\n",
    "                     title_height=0, endnote_height=0)\n",
    "\n",
    "teamIDs = pressureDataLL1920[\"team.id\"].unique()\n",
    "for idx, ax in enumerate(axs[\"pitch\"].flat):\n",
    "    # Get the data for the current team in the loop:\n",
    "    teamData = pressureDataLL1920[pressureDataLL1920[\"team.id\"] == teamIDs[idx]]\n",
    "\n",
    "    # Calculating the pressure difference:\n",
    "    bin_statistic = pitch.bin_statistic_positional(teamData[\"startX\"],\n",
    "                                                   teamData[\"startY\"],\n",
    "                                                   statistic='count',\n",
    "                                                   positional='full',\n",
    "                                                   normalize=True)\n",
    "    # Plot the Heatmap according to the positions selected above\n",
    "    pitch.heatmap_positional(bin_statistic,\n",
    "                             ax=ax,\n",
    "                             cmap='Reds',\n",
    "                             edgecolors='#22312b')\n",
    "    # Plot the points at the exact location of where the pressure was applied:\n",
    "    pitch.scatter(teamData[\"startX\"],\n",
    "                  teamData[\"startY\"],\n",
    "                  c='white', s=2, ax=ax, alpha=0.5)\n",
    "    # Add the Distribution count for each section of the pitch:\n",
    "    labels = pitch.label_heatmap(bin_statistic, color='white', fontsize=20,\n",
    "                                 ax=ax, ha='center', va='center',\n",
    "                                 str_format='{:.0%}', path_effects=path_eff)\n",
    "    teamName = teamData[\"team.name\"].unique().item()\n",
    "    totPressure = len(teamData)\n",
    "    ax.set_title(teamName + \"\\n Pressure Count: \" + str(totPressure),\n",
    "                 fontsize=25)\n"
   ]
  },
  {
   "cell_type": "code",
   "execution_count": null,
   "metadata": {},
   "outputs": [],
   "source": [
    "eventDataLL1920[(eventDataLL1920[\"match_id\"] == 303707)\n",
    "               & (eventDataLL1920[\"shot.outcome.name\"] == \"Goal\")]"
   ]
  },
  {
   "cell_type": "markdown",
   "metadata": {},
   "source": [
    "## Player-Wise"
   ]
  },
  {
   "cell_type": "code",
   "execution_count": null,
   "metadata": {},
   "outputs": [],
   "source": [
    "barcaPressureData = pressureDataLL1920[pressureDataLL1920[\"team.id\"] == 217]"
   ]
  },
  {
   "cell_type": "code",
   "execution_count": null,
   "metadata": {},
   "outputs": [],
   "source": [
    "barcaPressureData[\"player.id\"].nunique()"
   ]
  },
  {
   "cell_type": "code",
   "execution_count": null,
   "metadata": {
    "scrolled": false
   },
   "outputs": [],
   "source": [
    "\"\"\" Distribution of Pressure on a Pitch Map \"\"\"\n",
    "# Set the Pitch Parameters:\n",
    "pitch = mplsoccer.VerticalPitch(pitch_color='#101010',\n",
    "                                line_color='#ffffff',\n",
    "                                line_zorder=2)\n",
    "# Draw the pitch grid according to the set Pitch Parameters:\n",
    "fig, axs = pitch.grid(nrows=7, ncols=4,\n",
    "                      axis=False, figheight=40,\n",
    "                     space=0.2, grid_height=0.98, grid_width=0.9,\n",
    "                     title_height=0, endnote_height=0)\n",
    "\n",
    "playerIDs = barcaPressureData[\"player.id\"].unique()\n",
    "for idx, ax in enumerate(axs[\"pitch\"].flat):\n",
    "    if idx < len(playerIDs):\n",
    "        # Get the data for the current player in the loop:\n",
    "        playerData = barcaPressureData[barcaPressureData[\"player.id\"] == playerIDs[idx]]\n",
    "\n",
    "        # Calculating the pressure difference:\n",
    "        bin_statistic = pitch.bin_statistic_positional(playerData[\"startX\"],\n",
    "                                                       playerData[\"startY\"],\n",
    "                                                       statistic='count',\n",
    "                                                       positional='full',\n",
    "                                                       normalize=True)\n",
    "        # Plot the Heatmap according to the positions selected above\n",
    "        pitch.heatmap_positional(bin_statistic,\n",
    "                                 ax=ax,\n",
    "                                 cmap='Reds',\n",
    "                                 edgecolors='#22312b')\n",
    "        # Plot the points at the exact location of where the pressure was applied:\n",
    "        pitch.scatter(playerData[\"startX\"],\n",
    "                      playerData[\"startY\"],\n",
    "                      c='white', s=3, ax=ax)\n",
    "        # Add the Distribution count for each section of the pitch:\n",
    "        labels = pitch.label_heatmap(bin_statistic, color='white', fontsize=20,\n",
    "                                     ax=ax, ha='center', va='center',\n",
    "                                     str_format='{:.0%}', path_effects=path_eff)\n",
    "        playerName = playerData[\"player.name\"].unique().item()\n",
    "        totPressure = len(playerData)\n",
    "        positionName = playerData[\"position.name\"].unique()[0]\n",
    "        ax.set_title(playerName + \"\\n\" + positionName + \"\\n Pressure Count: \" + str(totPressure),\n",
    "                     fontsize=15)"
   ]
  },
  {
   "cell_type": "code",
   "execution_count": null,
   "metadata": {
    "scrolled": false
   },
   "outputs": [],
   "source": [
    "\"\"\" Distribution of Pressure on a Pitch Map \"\"\"\n",
    "# Set the Pitch Parameters:\n",
    "pitch = mplsoccer.VerticalPitch(pitch_color='#101010',\n",
    "                                line_color='#ffffff',\n",
    "                                line_zorder=2)\n",
    "# Draw the pitch grid according to the set Pitch Parameters:\n",
    "fig, axs = pitch.grid(nrows=7, ncols=4,\n",
    "                      axis=False, figheight=40,\n",
    "                     space=0.2, grid_height=0.98, grid_width=0.9,\n",
    "                     title_height=0, endnote_height=0)\n",
    "\n",
    "playerIDs = barcaPressureData[\"player.id\"].unique()\n",
    "for idx, ax in enumerate(axs[\"pitch\"].flat):\n",
    "    if idx < len(playerIDs):\n",
    "        # Get the data for the current player in the loop:\n",
    "        playerData = barcaPressureData[barcaPressureData[\"player.id\"] == playerIDs[idx]]\n",
    "\n",
    "        # Calculating the pressure difference:\n",
    "        bin_statistic = pitch.bin_statistic_positional(playerData[\"startX\"],\n",
    "                                                       playerData[\"startY\"],\n",
    "                                                       statistic='count',\n",
    "                                                       positional='full',\n",
    "                                                       normalize=True)\n",
    "        # Plot the Heatmap according to the positions selected above\n",
    "        pitch.heatmap_positional(bin_statistic,\n",
    "                                 ax=ax,\n",
    "                                 cmap='Reds',\n",
    "                                 edgecolors='#22312b')\n",
    "        # Plot the points at the exact location of where the pressure was applied:\n",
    "        pitch.scatter(playerData[\"startX\"],\n",
    "                      playerData[\"startY\"],\n",
    "                      c='white', s=3, ax=ax)\n",
    "        # Add the Distribution count for each section of the pitch:\n",
    "        labels = pitch.label_heatmap(bin_statistic, color='white', fontsize=20,\n",
    "                                     ax=ax, ha='center', va='center',\n",
    "                                     str_format='{:.0%}', path_effects=path_eff)\n",
    "        playerName = playerData[\"player.name\"].unique().item()\n",
    "        totPressure = len(playerData)\n",
    "        positionName = playerData[\"position.name\"].unique()[0]\n",
    "        playerMatchMins =\\\n",
    "            playerData.dropna(subset=[\"minsPlayed\"])\\\n",
    "                .drop_duplicates(subset=[\"match_id\"])[\"minsPlayed\"].sum().astype(int).item()\n",
    "        ax.set_title(playerName + \"\\n\" + positionName\n",
    "                     + \"\\n Total: \" + str(totPressure)\n",
    "                     + \" | Mins: \" + str(playerMatchMins),\n",
    "                     fontsize=15)"
   ]
  },
  {
   "cell_type": "markdown",
   "metadata": {},
   "source": [
    "## El-Classico"
   ]
  },
  {
   "cell_type": "code",
   "execution_count": null,
   "metadata": {},
   "outputs": [],
   "source": [
    "elclassicoMatchIds = [303596, 303470]"
   ]
  },
  {
   "cell_type": "code",
   "execution_count": null,
   "metadata": {
    "scrolled": true
   },
   "outputs": [],
   "source": [
    "pressureDataLL1920[pressureDataLL1920[\"match_id\"].isin(elclassicoMatchIds)]"
   ]
  },
  {
   "cell_type": "code",
   "execution_count": null,
   "metadata": {},
   "outputs": [],
   "source": [
    "ecPressureData = deepcopy(pressureDataLL1920[pressureDataLL1920[\"match_id\"].isin(elclassicoMatchIds)])"
   ]
  },
  {
   "cell_type": "code",
   "execution_count": null,
   "metadata": {},
   "outputs": [],
   "source": [
    "ecPressureData[[\"match_id\", \"team.id\"]].drop_duplicates()"
   ]
  },
  {
   "cell_type": "code",
   "execution_count": null,
   "metadata": {},
   "outputs": [],
   "source": [
    "matchIDList = ecPressureData[[\"match_id\", \"team.id\"]].drop_duplicates()[\"match_id\"].tolist()\n",
    "teamIDList = ecPressureData[[\"match_id\", \"team.id\"]].drop_duplicates()[\"team.id\"].tolist()"
   ]
  },
  {
   "cell_type": "code",
   "execution_count": null,
   "metadata": {
    "scrolled": false
   },
   "outputs": [],
   "source": [
    "\"\"\" Distribution of Pressure on a Pitch Map \"\"\"\n",
    "# Set the Pitch Parameters:\n",
    "pitch = mplsoccer.VerticalPitch(pitch_color='#101010',\n",
    "                                line_color='#ffffff',\n",
    "                                line_zorder=2)\n",
    "# Draw the pitch grid according to the set Pitch Parameters:\n",
    "fig, axs = pitch.grid(nrows=2, ncols=2,\n",
    "                      axis=False, figheight=15,\n",
    "                     space=0.1, grid_height=0.98, grid_width=0.9,\n",
    "                     title_height=0, endnote_height=0)\n",
    "\n",
    "for idx, ax in enumerate(axs[\"pitch\"].flat):\n",
    "    # Get the data for the current team in the loop:\n",
    "    teamData = ecPressureData[(ecPressureData[\"match_id\"] == matchIDList[idx])\n",
    "                              & (ecPressureData[\"team.id\"] == teamIDList[idx])]\n",
    "\n",
    "    # Calculating the pressure difference:\n",
    "    bin_statistic = pitch.bin_statistic_positional(teamData[\"startX\"],\n",
    "                                                   teamData[\"startY\"],\n",
    "                                                   statistic='count',\n",
    "                                                   positional='full',\n",
    "                                                   normalize=True)\n",
    "    # Plot the Heatmap according to the positions selected above\n",
    "    pitch.heatmap_positional(bin_statistic,\n",
    "                             ax=ax,\n",
    "                             cmap='coolwarm',\n",
    "                             edgecolors='white')\n",
    "    # Plot the points at the exact location of where the pressure was applied:\n",
    "    pitch.scatter(teamData[\"startX\"],\n",
    "                  teamData[\"startY\"],\n",
    "                  c='white', s=3, ax=ax)\n",
    "    # Add the Distribution count for each section of the pitch:\n",
    "    labels = pitch.label_heatmap(bin_statistic, color='white', fontsize=20,\n",
    "                                 ax=ax, ha='center', va='center',\n",
    "                                 str_format='{:.0%}', path_effects=path_eff)\n",
    "    teamName = teamData[\"team.name\"].unique().item()\n",
    "    totPressure = len(teamData)\n",
    "    ax.set_title(str(matchIDList[idx]) + \" | \" + teamName\n",
    "                 + \"\\n Pressure Count: \" + str(totPressure),\n",
    "                 fontsize=25)"
   ]
  },
  {
   "cell_type": "code",
   "execution_count": null,
   "metadata": {},
   "outputs": [],
   "source": [
    "eventDataLL1920[(eventDataLL1920[\"match_id\"] == 303596)\n",
    "               & (eventDataLL1920[\"shot.outcome.name\"] == \"Goal\")]"
   ]
  },
  {
   "cell_type": "code",
   "execution_count": null,
   "metadata": {},
   "outputs": [],
   "source": [
    "eventDataLL1920[(eventDataLL1920[\"match_id\"] == 303470)\n",
    "               & (eventDataLL1920[\"shot.outcome.name\"] == \"Goal\")]"
   ]
  },
  {
   "cell_type": "code",
   "execution_count": null,
   "metadata": {},
   "outputs": [],
   "source": [
    "resultsDict = {303470: \"RMA 2-0 BAR\", 303596: \"BAR 0-0 RMA\"}"
   ]
  },
  {
   "cell_type": "code",
   "execution_count": null,
   "metadata": {},
   "outputs": [],
   "source": [
    "\"\"\" Distribution of Pressure on a Pitch Map \"\"\"\n",
    "# Set the Pitch Parameters:\n",
    "pitch = mplsoccer.VerticalPitch(pitch_color='#101010',\n",
    "                                line_color='#ffffff',\n",
    "                                line_zorder=2)\n",
    "# Draw the pitch grid according to the set Pitch Parameters:\n",
    "fig, axs = pitch.grid(nrows=2, ncols=2,\n",
    "                      axis=False, figheight=15,\n",
    "                     space=0.1, grid_height=0.98, grid_width=0.9,\n",
    "                     title_height=0, endnote_height=0)\n",
    "\n",
    "for idx, ax in enumerate(axs[\"pitch\"].flat):\n",
    "    # Get the data for the current team in the loop:\n",
    "    teamData = ecPressureData[(ecPressureData[\"match_id\"] == matchIDList[idx])\n",
    "                              & (ecPressureData[\"team.id\"] == teamIDList[idx])]\n",
    "\n",
    "    # Calculating the pressure difference:\n",
    "    bin_statistic = pitch.bin_statistic_positional(teamData[\"startX\"],\n",
    "                                                   teamData[\"startY\"],\n",
    "                                                   statistic='count',\n",
    "                                                   positional='full',\n",
    "                                                   normalize=True)\n",
    "    # Plot the Heatmap according to the positions selected above\n",
    "    pitch.heatmap_positional(bin_statistic,\n",
    "                             ax=ax,\n",
    "                             cmap='coolwarm',\n",
    "                             edgecolors='white')\n",
    "    # Plot the points at the exact location of where the pressure was applied:\n",
    "    pitch.scatter(teamData[\"startX\"],\n",
    "                  teamData[\"startY\"],\n",
    "                  c='white', s=3, ax=ax)\n",
    "    # Add the Distribution count for each section of the pitch:\n",
    "    labels = pitch.label_heatmap(bin_statistic, color='white', fontsize=20,\n",
    "                                 ax=ax, ha='center', va='center',\n",
    "                                 str_format='{:.0%}', path_effects=path_eff)\n",
    "    teamName = teamData[\"team.name\"].unique().item()\n",
    "    totPressure = len(teamData)\n",
    "    result = resultsDict[matchIDList[idx]]\n",
    "    ax.set_title(str(matchIDList[idx]) + \" | \" + teamName\n",
    "                 + \"\\n\" + result\n",
    "                 + \"\\n Pressure Count: \" + str(totPressure),\n",
    "                 fontsize=15)"
   ]
  },
  {
   "cell_type": "markdown",
   "metadata": {},
   "source": [
    "# Passes per Defensive Action (PpDA)"
   ]
  },
  {
   "cell_type": "code",
   "execution_count": null,
   "metadata": {},
   "outputs": [],
   "source": [
    "pressureDataLL1920.columns"
   ]
  },
  {
   "cell_type": "code",
   "execution_count": null,
   "metadata": {},
   "outputs": [],
   "source": [
    "pressureDataLL1920[[\"team.id\", \"home_team.home_team_id\", \"away_team.away_team_id\"]]"
   ]
  },
  {
   "cell_type": "code",
   "execution_count": null,
   "metadata": {},
   "outputs": [],
   "source": [
    "eventDataLL1920[\"opponent_team.id\"] =\\\n",
    "    np.where(eventDataLL1920[\"team.id\"] == eventDataLL1920[\"home_team.home_team_id\"],\n",
    "         eventDataLL1920[\"away_team.away_team_id\"],\n",
    "         eventDataLL1920[\"home_team.home_team_id\"])"
   ]
  },
  {
   "cell_type": "code",
   "execution_count": null,
   "metadata": {},
   "outputs": [],
   "source": [
    "eventDataLL1920[\"opponent_team.name\"] =\\\n",
    "    np.where(eventDataLL1920[\"team.name\"] == eventDataLL1920[\"home_team.home_team_name\"],\n",
    "         eventDataLL1920[\"away_team.away_team_name\"],\n",
    "         eventDataLL1920[\"home_team.home_team_name\"])"
   ]
  },
  {
   "cell_type": "code",
   "execution_count": null,
   "metadata": {},
   "outputs": [],
   "source": [
    "passCond = eventDataLL1920[\"type.id\"] == 30"
   ]
  },
  {
   "cell_type": "code",
   "execution_count": null,
   "metadata": {},
   "outputs": [],
   "source": [
    "oppoHalfCond = eventDataLL1920[\"startX\"] < 60"
   ]
  },
  {
   "cell_type": "code",
   "execution_count": null,
   "metadata": {},
   "outputs": [],
   "source": [
    "eventDataLL1920[passCond & oppoHalfCond].groupby([\"opponent_team.id\"]).agg({\"opponent_team.name\": \"first\",\n",
    "                                                                            \"type.name\": \"count\"})"
   ]
  },
  {
   "cell_type": "code",
   "execution_count": null,
   "metadata": {},
   "outputs": [],
   "source": [
    "oppoPassData =\\\n",
    "    eventDataLL1920[passCond & oppoHalfCond].groupby([\"opponent_team.id\"]).agg({\"opponent_team.name\": \"first\",\n",
    "                                                                                \"type.name\": \"count\"})"
   ]
  },
  {
   "cell_type": "code",
   "execution_count": null,
   "metadata": {
    "scrolled": true
   },
   "outputs": [],
   "source": [
    "eventDataLL1920[[\"type.id\", \"type.name\"]].drop_duplicates()"
   ]
  },
  {
   "cell_type": "code",
   "execution_count": null,
   "metadata": {},
   "outputs": [],
   "source": [
    "eventDataLL1920[eventDataLL1920[\"type.id\"].isin([4, 10, 22])]"
   ]
  },
  {
   "cell_type": "code",
   "execution_count": null,
   "metadata": {},
   "outputs": [],
   "source": [
    "defCond = eventDataLL1920[\"type.id\"].isin([4, 10, 22])"
   ]
  },
  {
   "cell_type": "code",
   "execution_count": null,
   "metadata": {},
   "outputs": [],
   "source": [
    "oppoHalfCondDef = eventDataLL1920[\"startX\"] > 60"
   ]
  },
  {
   "cell_type": "code",
   "execution_count": null,
   "metadata": {},
   "outputs": [],
   "source": [
    "eventDataLL1920[defCond & oppoHalfCond].groupby([\"team.id\"])[\"type.name\"].count()"
   ]
  },
  {
   "cell_type": "code",
   "execution_count": null,
   "metadata": {},
   "outputs": [],
   "source": [
    "defData =\\\n",
    "    eventDataLL1920[defCond & oppoHalfCond].groupby([\"team.id\"])[\"type.name\"].count()"
   ]
  },
  {
   "cell_type": "code",
   "execution_count": null,
   "metadata": {
    "scrolled": true
   },
   "outputs": [],
   "source": [
    "pd.concat([oppoPassData, defData], axis=1)"
   ]
  },
  {
   "cell_type": "code",
   "execution_count": null,
   "metadata": {},
   "outputs": [],
   "source": [
    "ppdaData = pd.concat([oppoPassData, defData], axis=1)"
   ]
  },
  {
   "cell_type": "code",
   "execution_count": null,
   "metadata": {},
   "outputs": [],
   "source": [
    "ppdaData.columns = [\"teamName\", \"oppoPasses\", \"defActions\"]"
   ]
  },
  {
   "cell_type": "code",
   "execution_count": null,
   "metadata": {
    "scrolled": true
   },
   "outputs": [],
   "source": [
    "ppdaData"
   ]
  },
  {
   "cell_type": "code",
   "execution_count": null,
   "metadata": {},
   "outputs": [],
   "source": [
    "ppdaData[\"PpDA\"] = ppdaData[\"oppoPasses\"].divide(ppdaData[\"defActions\"]).round(1)"
   ]
  },
  {
   "cell_type": "code",
   "execution_count": null,
   "metadata": {
    "scrolled": false
   },
   "outputs": [],
   "source": [
    "ppdaData"
   ]
  },
  {
   "cell_type": "code",
   "execution_count": null,
   "metadata": {
    "scrolled": false
   },
   "outputs": [],
   "source": [
    "px.bar(data_frame=ppdaData, x=\"teamName\", y=\"PpDA\")"
   ]
  },
  {
   "cell_type": "code",
   "execution_count": null,
   "metadata": {
    "scrolled": false
   },
   "outputs": [],
   "source": [
    "ppdaData.style.bar(subset=[\"PpDA\"], color=\"maroon\").set_precision(1)"
   ]
  },
  {
   "cell_type": "markdown",
   "metadata": {},
   "source": [
    "# PpDA (with Pressure)"
   ]
  },
  {
   "cell_type": "code",
   "execution_count": null,
   "metadata": {
    "scrolled": true
   },
   "outputs": [],
   "source": [
    "eventDataLL1920[[\"type.id\", \"type.name\"]].drop_duplicates()"
   ]
  },
  {
   "cell_type": "code",
   "execution_count": null,
   "metadata": {},
   "outputs": [],
   "source": [
    "defCond = eventDataLL1920[\"type.id\"].isin([4, 10, 17, 22])"
   ]
  },
  {
   "cell_type": "code",
   "execution_count": null,
   "metadata": {
    "scrolled": true
   },
   "outputs": [],
   "source": [
    "eventDataLL1920[defCond & oppoHalfCondDef].groupby([\"team.id\"])[\"type.name\"].count()"
   ]
  },
  {
   "cell_type": "code",
   "execution_count": null,
   "metadata": {},
   "outputs": [],
   "source": [
    "defPData =\\\n",
    "    eventDataLL1920[defCond & oppoHalfCond].groupby([\"team.id\"])[\"type.name\"].count()"
   ]
  },
  {
   "cell_type": "code",
   "execution_count": null,
   "metadata": {
    "scrolled": true
   },
   "outputs": [],
   "source": [
    "pd.concat([ppdaData, defPData], axis=1)"
   ]
  },
  {
   "cell_type": "code",
   "execution_count": null,
   "metadata": {},
   "outputs": [],
   "source": [
    "ppdaWithPressure = pd.concat([ppdaData, defPData], axis=1)"
   ]
  },
  {
   "cell_type": "code",
   "execution_count": null,
   "metadata": {},
   "outputs": [],
   "source": [
    "ppdaWithPressure.rename(columns={\"type.name\": \"defPActions\"},\n",
    "                        inplace=True)"
   ]
  },
  {
   "cell_type": "code",
   "execution_count": null,
   "metadata": {},
   "outputs": [],
   "source": [
    "ppdaWithPressure"
   ]
  },
  {
   "cell_type": "code",
   "execution_count": null,
   "metadata": {},
   "outputs": [],
   "source": [
    "ppdaWithPressure[\"PpPA\"] = ppdaWithPressure[\"oppoPasses\"].divide(ppdaWithPressure[\"defPActions\"]).round(1)"
   ]
  },
  {
   "cell_type": "code",
   "execution_count": null,
   "metadata": {},
   "outputs": [],
   "source": [
    "ppdaWithPressure.style.bar(subset=[\"PpDA\", \"PpPA\"], color=\"maroon\").set_precision(1)"
   ]
  },
  {
   "cell_type": "code",
   "execution_count": null,
   "metadata": {},
   "outputs": [],
   "source": []
  }
 ],
 "metadata": {
  "kernelspec": {
   "display_name": "Python 3",
   "language": "python",
   "name": "python3"
  },
  "language_info": {
   "codemirror_mode": {
    "name": "ipython",
    "version": 3
   },
   "file_extension": ".py",
   "mimetype": "text/x-python",
   "name": "python",
   "nbconvert_exporter": "python",
   "pygments_lexer": "ipython3",
   "version": "3.8.3"
  },
  "toc": {
   "base_numbering": 1,
   "nav_menu": {},
   "number_sections": true,
   "sideBar": true,
   "skip_h1_title": false,
   "title_cell": "Table of Contents",
   "title_sidebar": "Contents",
   "toc_cell": false,
   "toc_position": {},
   "toc_section_display": true,
   "toc_window_display": true
  }
 },
 "nbformat": 4,
 "nbformat_minor": 2
}

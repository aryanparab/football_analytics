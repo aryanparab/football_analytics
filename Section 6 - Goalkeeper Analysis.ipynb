{
 "cells": [
  {
   "cell_type": "markdown",
   "metadata": {},
   "source": [
    "# Import Required Libraries"
   ]
  },
  {
   "cell_type": "code",
   "execution_count": null,
   "metadata": {},
   "outputs": [],
   "source": [
    "# Data Manipulation libraries:\n",
    "import numpy as np\n",
    "import pandas as pd\n",
    "from copy import deepcopy\n",
    "\n",
    "# Plotting libraries\n",
    "import mplsoccer\n",
    "import seaborn as sns\n",
    "import plotly.express as px\n",
    "import matplotlib.pyplot as plt\n",
    "import plotly.graph_objects as go\n",
    "\n",
    "from plotly.subplots import make_subplots"
   ]
  },
  {
   "cell_type": "markdown",
   "metadata": {},
   "source": [
    "# Load the Data"
   ]
  },
  {
   "cell_type": "code",
   "execution_count": null,
   "metadata": {},
   "outputs": [],
   "source": [
    "eventDataLL1920 = pd.read_csv(\"../data/matchwise_events_data_updated.csv\",\n",
    "                              low_memory=False)"
   ]
  },
  {
   "cell_type": "code",
   "execution_count": null,
   "metadata": {},
   "outputs": [],
   "source": [
    "pd.set_option(\"display.max_columns\", 50)\n",
    "pd.set_option(\"display.max_rows\", 100)"
   ]
  },
  {
   "cell_type": "markdown",
   "metadata": {},
   "source": [
    "# Data Preparation"
   ]
  },
  {
   "cell_type": "markdown",
   "metadata": {},
   "source": [
    "## Separate X and Y of start and end locations"
   ]
  },
  {
   "cell_type": "code",
   "execution_count": null,
   "metadata": {},
   "outputs": [],
   "source": [
    "eventDataLL1920.columns[eventDataLL1920.columns.str.contains(\"goalkeeper\")]"
   ]
  },
  {
   "cell_type": "code",
   "execution_count": null,
   "metadata": {},
   "outputs": [],
   "source": [
    "eventDataLL1920[\"goalkeeper.end_location\"].dropna().str.len().unique()"
   ]
  },
  {
   "cell_type": "code",
   "execution_count": null,
   "metadata": {},
   "outputs": [],
   "source": [
    "# Start location for any action:\n",
    "eventDataLL1920[\"startX\"] = eventDataLL1920[\"location\"]\\\n",
    "    .str.split(\", \", expand=True)[0].str[1:].apply(pd.to_numeric)\n",
    "eventDataLL1920[\"startY\"] = eventDataLL1920[\"location\"]\\\n",
    "    .str.split(\", \", expand=True)[1].str[:-1].apply(pd.to_numeric)\n",
    "\n",
    "# End location for GK:\n",
    "eventDataLL1920[\"endXGK\"] = eventDataLL1920[\"goalkeeper.end_location\"]\\\n",
    "    .str.split(\", \", expand=True)[0].str[1:].apply(pd.to_numeric)\n",
    "eventDataLL1920[\"endYGK\"] = eventDataLL1920[\"goalkeeper.end_location\"]\\\n",
    "    .str.split(\", \", expand=True)[1].str[:-1].apply(pd.to_numeric)"
   ]
  },
  {
   "cell_type": "markdown",
   "metadata": {},
   "source": [
    "## Obtain all the GK and other relevant Columns"
   ]
  },
  {
   "cell_type": "code",
   "execution_count": null,
   "metadata": {},
   "outputs": [],
   "source": [
    "gkAdditionalCols = ['match_id', 'id',\n",
    "                    'timestamp', 'minute', 'second',\n",
    "                    'type.id', 'type.name',\n",
    "                    'possession_team.id', 'possession_team.name',\n",
    "                    'play_pattern.id', 'play_pattern.name',\n",
    "                    'team.id', 'team.name',\n",
    "                    'player.id', 'jersey_number', 'player.name',\n",
    "                    'position.id', 'position.name',\n",
    "                    'under_pressure', 'location',\n",
    "                    'started', 'minsPlayed',\n",
    "                    'startX', 'startY', 'endXGK', 'endYGK']"
   ]
  },
  {
   "cell_type": "code",
   "execution_count": null,
   "metadata": {},
   "outputs": [],
   "source": [
    "gkCols = eventDataLL1920.columns[eventDataLL1920.columns.str.contains(\"goalkeeper\")].tolist()"
   ]
  },
  {
   "cell_type": "code",
   "execution_count": null,
   "metadata": {
    "scrolled": true
   },
   "outputs": [],
   "source": [
    "gkCols = gkAdditionalCols + gkCols\n",
    "gkCols"
   ]
  },
  {
   "cell_type": "markdown",
   "metadata": {},
   "source": [
    "## Obtain Rows that contain GK Events"
   ]
  },
  {
   "cell_type": "code",
   "execution_count": null,
   "metadata": {
    "scrolled": true
   },
   "outputs": [],
   "source": [
    "eventDataLL1920[[\"type.id\", \"type.name\"]].drop_duplicates()"
   ]
  },
  {
   "cell_type": "code",
   "execution_count": null,
   "metadata": {
    "scrolled": true
   },
   "outputs": [],
   "source": [
    " eventDataLL1920[(eventDataLL1920[\"type.id\"] == 23)]"
   ]
  },
  {
   "cell_type": "code",
   "execution_count": null,
   "metadata": {},
   "outputs": [],
   "source": [
    " eventDataLL1920[(eventDataLL1920[\"type.id\"] == 23)][\"type.name\"].unique()"
   ]
  },
  {
   "cell_type": "code",
   "execution_count": null,
   "metadata": {},
   "outputs": [],
   "source": [
    "gkData = deepcopy(eventDataLL1920[(eventDataLL1920[\"type.id\"] == 23)])"
   ]
  },
  {
   "cell_type": "code",
   "execution_count": null,
   "metadata": {},
   "outputs": [],
   "source": [
    "gkData = gkData[gkCols]"
   ]
  },
  {
   "cell_type": "code",
   "execution_count": null,
   "metadata": {},
   "outputs": [],
   "source": [
    "gkData.columns"
   ]
  },
  {
   "cell_type": "markdown",
   "metadata": {},
   "source": [
    "## Obtain GK Passing Data"
   ]
  },
  {
   "cell_type": "code",
   "execution_count": null,
   "metadata": {
    "scrolled": true
   },
   "outputs": [],
   "source": [
    "eventDataLL1920[[\"position.id\", \"position.name\"]].drop_duplicates()"
   ]
  },
  {
   "cell_type": "code",
   "execution_count": null,
   "metadata": {
    "scrolled": true
   },
   "outputs": [],
   "source": [
    "eventDataLL1920[(eventDataLL1920[\"type.id\"] == 30)\n",
    "                & (eventDataLL1920[\"position.id\"] == 1)][\"position.name\"].unique()"
   ]
  },
  {
   "cell_type": "code",
   "execution_count": null,
   "metadata": {},
   "outputs": [],
   "source": [
    "eventDataLL1920[(eventDataLL1920[\"type.id\"] == 30)\n",
    "                & (eventDataLL1920[\"position.id\"] == 1)].groupby([\"player.name\"])[\"player.name\"].count()"
   ]
  },
  {
   "cell_type": "code",
   "execution_count": null,
   "metadata": {},
   "outputs": [],
   "source": [
    "gkPassData = eventDataLL1920[(eventDataLL1920[\"type.id\"] == 30)\n",
    "                             & (eventDataLL1920[\"position.id\"] == 1)]"
   ]
  },
  {
   "cell_type": "markdown",
   "metadata": {},
   "source": [
    "# EDA"
   ]
  },
  {
   "cell_type": "markdown",
   "metadata": {},
   "source": [
    "## Numerical Exploration"
   ]
  },
  {
   "cell_type": "markdown",
   "metadata": {},
   "source": [
    "### Exploring Meta Data"
   ]
  },
  {
   "cell_type": "code",
   "execution_count": null,
   "metadata": {
    "scrolled": false
   },
   "outputs": [],
   "source": [
    "gkData.info()"
   ]
  },
  {
   "cell_type": "code",
   "execution_count": null,
   "metadata": {},
   "outputs": [],
   "source": [
    "gkData.describe().round(1)"
   ]
  },
  {
   "cell_type": "code",
   "execution_count": null,
   "metadata": {},
   "outputs": [],
   "source": [
    "gkData.describe(include=\"object\").T.round(1)"
   ]
  },
  {
   "cell_type": "code",
   "execution_count": null,
   "metadata": {},
   "outputs": [],
   "source": [
    "gkCols"
   ]
  },
  {
   "cell_type": "markdown",
   "metadata": {},
   "source": [
    "### Exploring Categorical Columns"
   ]
  },
  {
   "cell_type": "code",
   "execution_count": null,
   "metadata": {},
   "outputs": [],
   "source": [
    "catCols = ['goalkeeper.position.name', 'goalkeeper.type.name', 'goalkeeper.body_part.name',\n",
    "           'goalkeeper.outcome.name', 'goalkeeper.technique.name', 'goalkeeper.lost_in_play']"
   ]
  },
  {
   "cell_type": "code",
   "execution_count": null,
   "metadata": {},
   "outputs": [],
   "source": [
    "for col in catCols:\n",
    "    print(col, \":\", gkData[col].unique(), \"\\n\")"
   ]
  },
  {
   "cell_type": "markdown",
   "metadata": {},
   "source": [
    "## Visual Exploration"
   ]
  },
  {
   "cell_type": "markdown",
   "metadata": {},
   "source": [
    "### Exploring Categorical Columns"
   ]
  },
  {
   "cell_type": "code",
   "execution_count": null,
   "metadata": {},
   "outputs": [],
   "source": [
    "i = j = 1\n",
    "# Create an empty subplot:\n",
    "fig = make_subplots(rows=2, cols=3,\n",
    "                    shared_xaxes=False,\n",
    "                    vertical_spacing=0.3,\n",
    "                    horizontal_spacing=0.1,\n",
    "                    subplot_titles=catCols)\n",
    "# Add bar plot for goals conceded in all subplots:\n",
    "for col in catCols:\n",
    "    plot_df = gkData[col].value_counts(normalize=True).multiply(100).round(1).reset_index()\n",
    "    fig.add_trace(go.Bar(x=plot_df[\"index\"],\n",
    "                         y=plot_df[col],\n",
    "                         text=plot_df[col],\n",
    "                         name=col),\n",
    "                  row=i, col=j)\n",
    "    j += 1\n",
    "    if j > 3:\n",
    "        j = 1\n",
    "        i += 1\n",
    "fig.update_traces(textposition='inside', textfont_size=10)\n",
    "fig.update_layout(height=800)\n",
    "\n",
    "fig.show()"
   ]
  },
  {
   "cell_type": "markdown",
   "metadata": {},
   "source": [
    "## Player-Wise GK Passing Exploration"
   ]
  },
  {
   "cell_type": "code",
   "execution_count": null,
   "metadata": {},
   "outputs": [],
   "source": [
    "eventDataLL1920[[\"pass.outcome.id\", \"pass.outcome.name\"]].drop_duplicates()"
   ]
  },
  {
   "cell_type": "code",
   "execution_count": null,
   "metadata": {
    "scrolled": false
   },
   "outputs": [],
   "source": [
    "gkPassData.groupby([\"player.id\"]).agg({\"player.name\": \"first\",\n",
    "                                       \"team.name\": \"first\",\n",
    "                                       \"type.id\": \"count\",\n",
    "                                       \"pass.outcome.id\": lambda x: x.isnull().sum()})"
   ]
  },
  {
   "cell_type": "code",
   "execution_count": null,
   "metadata": {},
   "outputs": [],
   "source": [
    "gkPlayerPassData = gkPassData.groupby([\"player.id\"]).agg({\"player.name\": \"first\",\n",
    "                                       \"team.name\": \"first\",\n",
    "                                       \"type.id\": \"count\",\n",
    "                                       \"pass.outcome.id\": lambda x: x.isnull().sum()})"
   ]
  },
  {
   "cell_type": "code",
   "execution_count": null,
   "metadata": {},
   "outputs": [],
   "source": [
    "playerMatchMinsdf = gkPassData.drop_duplicates(subset=[\"player.id\", \"match_id\"]).groupby([\"player.id\"])\\\n",
    "    .agg({\"minsPlayed\": \"sum\"})"
   ]
  },
  {
   "cell_type": "code",
   "execution_count": null,
   "metadata": {
    "scrolled": false
   },
   "outputs": [],
   "source": [
    "pd.concat([gkPlayerPassData, playerMatchMinsdf], axis=1)"
   ]
  },
  {
   "cell_type": "code",
   "execution_count": null,
   "metadata": {},
   "outputs": [],
   "source": [
    "gkPlayerPassData = pd.concat([gkPlayerPassData, playerMatchMinsdf], axis=1)"
   ]
  },
  {
   "cell_type": "code",
   "execution_count": null,
   "metadata": {},
   "outputs": [],
   "source": [
    "gkPlayerPassData[\"passesPer90\"] = gkPlayerPassData[\"type.id\"]\\\n",
    "    .divide(gkPlayerPassData[\"minsPlayed\"]).multiply(90).round(1)"
   ]
  },
  {
   "cell_type": "code",
   "execution_count": null,
   "metadata": {
    "scrolled": false
   },
   "outputs": [],
   "source": [
    "gkPlayerPassData"
   ]
  },
  {
   "cell_type": "code",
   "execution_count": null,
   "metadata": {
    "scrolled": false
   },
   "outputs": [],
   "source": [
    "gkPlayerPassData.style.highlight_max(subset=[\"passesPer90\"]).set_precision(1)"
   ]
  },
  {
   "cell_type": "code",
   "execution_count": null,
   "metadata": {
    "scrolled": false
   },
   "outputs": [],
   "source": [
    "gkPlayerPassData.style.background_gradient(subset=[\"passesPer90\"]).set_precision(1)"
   ]
  },
  {
   "cell_type": "code",
   "execution_count": null,
   "metadata": {},
   "outputs": [],
   "source": [
    "gkCols"
   ]
  },
  {
   "cell_type": "markdown",
   "metadata": {},
   "source": [
    "# GK Action Distribution Pitch Map"
   ]
  },
  {
   "cell_type": "markdown",
   "metadata": {},
   "source": [
    "## Generating Action Ditribution Map"
   ]
  },
  {
   "cell_type": "code",
   "execution_count": null,
   "metadata": {},
   "outputs": [],
   "source": [
    "pitch = mplsoccer.VerticalPitch(line_color='#ffffff',\n",
    "                                pitch_color='#383838',\n",
    "                                line_zorder=2,\n",
    "                                pad_bottom=10)\n",
    "fig, ax = pitch.draw(figsize=(6, 8))\n",
    "scatter = pitch.scatter(gkData[\"startX\"], gkData[\"startY\"],\n",
    "                        ax=ax,\n",
    "                        s=100, c=\"white\", edgecolors=\"red\")"
   ]
  },
  {
   "cell_type": "code",
   "execution_count": null,
   "metadata": {},
   "outputs": [],
   "source": [
    "pitch = mplsoccer.VerticalPitch(line_color='#ffffff',\n",
    "                                pitch_color='#383838',\n",
    "                                line_zorder=2,\n",
    "                                pad_bottom=10)\n",
    "fig, ax = pitch.draw(figsize=(6, 8))\n",
    "hexbin = pitch.hexbin(gkData[\"startX\"], gkData[\"startY\"],\n",
    "                       ax=ax, edgecolors='red',\n",
    "                       gridsize=(15, 15), cmap=\"Reds\")"
   ]
  },
  {
   "cell_type": "code",
   "execution_count": null,
   "metadata": {},
   "outputs": [],
   "source": [
    "pitch = mplsoccer.VerticalPitch(line_color='#ffffff',\n",
    "                                pitch_color='#383838',\n",
    "                                line_zorder=2,\n",
    "                                half=True,\n",
    "                                pad_bottom=10)\n",
    "fig, ax = pitch.draw(figsize=(6, 8))\n",
    "hexbin = pitch.hexbin(gkData[\"startX\"], gkData[\"startY\"],\n",
    "                       ax=ax, edgecolors='red',\n",
    "                       gridsize=(15, 15), cmap=\"Reds\")"
   ]
  },
  {
   "cell_type": "code",
   "execution_count": null,
   "metadata": {},
   "outputs": [],
   "source": [
    "pitch = mplsoccer.VerticalPitch(line_color='#ffffff',\n",
    "                                pitch_color='#383838',\n",
    "                                line_zorder=2,\n",
    "                                pad_bottom=-10)\n",
    "fig, ax = pitch.draw(figsize=(6, 8))\n",
    "scatter = pitch.hexbin(120-gkData[\"startX\"], 80-gkData[\"startY\"],\n",
    "                       ax=ax, edgecolors='red',\n",
    "                       gridsize=(15, 15), cmap=\"Reds\")"
   ]
  },
  {
   "cell_type": "code",
   "execution_count": null,
   "metadata": {},
   "outputs": [],
   "source": [
    "pitch = mplsoccer.VerticalPitch(line_color='#ffffff',\n",
    "                                pitch_color='#383838',\n",
    "                                line_zorder=2,\n",
    "                                half=True,\n",
    "                                pad_bottom=-20)\n",
    "fig, ax = pitch.draw(figsize=(6, 8))\n",
    "scatter = pitch.hexbin(120-gkData[\"startX\"], 80-gkData[\"startY\"],\n",
    "                       ax=ax, edgecolors='red',\n",
    "                       gridsize=(15, 15), cmap=\"Reds\")"
   ]
  },
  {
   "cell_type": "markdown",
   "metadata": {},
   "source": [
    "## Player-Wise Action Map Generation"
   ]
  },
  {
   "cell_type": "code",
   "execution_count": null,
   "metadata": {
    "scrolled": true
   },
   "outputs": [],
   "source": [
    "gkPlayerPassData"
   ]
  },
  {
   "cell_type": "code",
   "execution_count": null,
   "metadata": {},
   "outputs": [],
   "source": [
    "playerID = 20055\n",
    "pitch = mplsoccer.VerticalPitch(line_color='#ffffff',\n",
    "                                pitch_color='#383838',\n",
    "                                line_zorder=2,\n",
    "                                half=True,\n",
    "                                pad_bottom=-10)\n",
    "fig, ax = pitch.draw(figsize=(6, 8))\n",
    "playerPlotData = gkData[gkData[\"player.id\"] == playerID]\n",
    "hexbin = pitch.hexbin(120-playerPlotData[\"startX\"], 80-playerPlotData[\"startY\"],\n",
    "                       ax=ax, edgecolors='red',\n",
    "                       gridsize=(15, 15), cmap=\"Reds\")"
   ]
  },
  {
   "cell_type": "code",
   "execution_count": null,
   "metadata": {},
   "outputs": [],
   "source": [
    "playerID = 3509\n",
    "pitch = mplsoccer.VerticalPitch(line_color='#ffffff',\n",
    "                                pitch_color='#383838',\n",
    "                                line_zorder=2,\n",
    "                                half=True,\n",
    "                                pad_bottom=-10)\n",
    "fig, ax = pitch.draw(figsize=(6, 8))\n",
    "playerPlotData = gkData[gkData[\"player.id\"] == playerID]\n",
    "hexbin = pitch.hexbin(120-playerPlotData[\"startX\"], 80-playerPlotData[\"startY\"],\n",
    "                       ax=ax, edgecolors='red',\n",
    "                       gridsize=(15, 15), cmap=\"Reds\")"
   ]
  },
  {
   "cell_type": "code",
   "execution_count": null,
   "metadata": {},
   "outputs": [],
   "source": [
    "gkPlayerPassData.shape"
   ]
  },
  {
   "cell_type": "code",
   "execution_count": null,
   "metadata": {},
   "outputs": [],
   "source": [
    "\"\"\" Distribution of Pressure on a Pitch Map \"\"\"\n",
    "# Set the Pitch Parameters:\n",
    "pitch = mplsoccer.VerticalPitch(pitch_color='#101010',\n",
    "                                line_color='#ffffff',\n",
    "                                half=True,\n",
    "                                line_zorder=2,\n",
    "                                pad_bottom=-15)\n",
    "# Draw the pitch grid according to the set Pitch Parameters:\n",
    "fig, axs = pitch.grid(nrows=6, ncols=4,\n",
    "                      axis=False, figheight=40,\n",
    "                      space=0.2, grid_height=0.98, grid_width=0.9,\n",
    "                      title_height=0, endnote_height=0)\n",
    "\n",
    "playerIDs = gkPlayerPassData.index\n",
    "for idx, ax in enumerate(axs[\"pitch\"].flat):\n",
    "    if idx < len(playerIDs):\n",
    "        # Get the data for the current player in the loop:\n",
    "        playerData = gkData[gkData[\"player.id\"] == playerIDs[idx]]\n",
    "\n",
    "        # Plotting the Action Distribution:\n",
    "        hexbin = pitch.hexbin(120-playerData[\"startX\"],\n",
    "                              80-playerData[\"startY\"],\n",
    "                              ax=ax, edgecolors='red',\n",
    "                              gridsize=(15, 15), cmap=\"Reds\")\n",
    "        \n",
    "        playerName = playerData[\"player.name\"].unique().item()\n",
    "        teamName = playerData[\"team.name\"].unique().item()\n",
    "        totActions = len(playerData)\n",
    "        ax.set_title(playerName + \"\\n\" + teamName + \"\\n Actions: \" + str(totActions),\n",
    "                     fontsize=30)"
   ]
  },
  {
   "cell_type": "markdown",
   "metadata": {},
   "source": [
    "## Player-Wise Save Maps"
   ]
  },
  {
   "cell_type": "code",
   "execution_count": null,
   "metadata": {
    "scrolled": true
   },
   "outputs": [],
   "source": [
    "gkData[gkData[\"goalkeeper.type.id\"] == 33]"
   ]
  },
  {
   "cell_type": "code",
   "execution_count": null,
   "metadata": {},
   "outputs": [],
   "source": [
    "pitch = mplsoccer.VerticalPitch(line_color='#ffffff',\n",
    "                                pitch_color='#383838',\n",
    "                                line_zorder=2,\n",
    "                                half=True,\n",
    "                                pad_bottom=-10)\n",
    "fig, ax = pitch.draw(figsize=(6, 8))\n",
    "saveData = gkData[gkData[\"goalkeeper.type.id\"] == 33]\n",
    "scatter = pitch.scatter(120-saveData[\"startX\"], 80-saveData[\"startY\"],\n",
    "                        ax=ax,\n",
    "                        s=100, c=\"white\", edgecolors=\"red\")"
   ]
  },
  {
   "cell_type": "code",
   "execution_count": null,
   "metadata": {},
   "outputs": [],
   "source": [
    "\"\"\" Distribution of Pressure on a Pitch Map \"\"\"\n",
    "# Set the Pitch Parameters:\n",
    "pitch = mplsoccer.VerticalPitch(pitch_color='#101010',\n",
    "                                line_color='#ffffff',\n",
    "                                half=True,\n",
    "                                line_zorder=2,\n",
    "                                pad_bottom=-10)\n",
    "# Draw the pitch grid according to the set Pitch Parameters:\n",
    "fig, axs = pitch.grid(nrows=6, ncols=4,\n",
    "                      axis=False, figheight=40,\n",
    "                      space=0.2, grid_height=0.98, grid_width=0.9,\n",
    "                      title_height=0, endnote_height=0)\n",
    "\n",
    "playerIDs = gkPlayerPassData.index\n",
    "for idx, ax in enumerate(axs[\"pitch\"].flat):\n",
    "    if idx < len(playerIDs):\n",
    "        # Get the data for the current player in the loop:\n",
    "        playerData = gkData[(gkData[\"player.id\"] == playerIDs[idx])\n",
    "                            & (gkData[\"goalkeeper.type.id\"] == 33)]\n",
    "        if playerData.empty:\n",
    "            continue\n",
    "        # Plotting the Action Distribution:\n",
    "        hexbin = pitch.hexbin(120-playerData[\"startX\"],\n",
    "                              80-playerData[\"startY\"],\n",
    "                              ax=ax,\n",
    "                              gridsize=(15, 15),\n",
    "                              cmap=\"Reds\")\n",
    "        \n",
    "        playerName = playerData[\"player.name\"].unique().item()\n",
    "        teamName = playerData[\"team.name\"].unique().item()\n",
    "        totSaves = len(playerData)\n",
    "        ax.set_title(playerName + \"\\n\" + teamName + \"\\n Saves: \" + str(totSaves),\n",
    "                     fontsize=30)"
   ]
  },
  {
   "cell_type": "markdown",
   "metadata": {},
   "source": [
    "# Save Analysis"
   ]
  },
  {
   "cell_type": "code",
   "execution_count": null,
   "metadata": {
    "scrolled": false
   },
   "outputs": [],
   "source": [
    "gkData.groupby([\"player.id\"]).agg({\"player.name\": \"first\",\n",
    "                                   \"team.name\": \"first\",\n",
    "                                   \"type.id\": \"count\",\n",
    "                                   \"goalkeeper.type.id\": lambda x: (x == 33).sum()})"
   ]
  },
  {
   "cell_type": "code",
   "execution_count": null,
   "metadata": {},
   "outputs": [],
   "source": [
    "gkPlayerData = gkData.groupby([\"player.id\"]).agg({\"player.name\": \"first\",\n",
    "                                   \"team.name\": \"first\",\n",
    "                                   \"type.id\": \"count\",\n",
    "                                   \"goalkeeper.type.id\": lambda x: (x == 33).sum()})"
   ]
  },
  {
   "cell_type": "code",
   "execution_count": null,
   "metadata": {},
   "outputs": [],
   "source": [
    "playerMatchMinsdf = gkData.drop_duplicates(subset=[\"player.id\", \"match_id\"]).groupby([\"player.id\"])\\\n",
    "    .agg({\"minsPlayed\": \"sum\"})"
   ]
  },
  {
   "cell_type": "code",
   "execution_count": null,
   "metadata": {
    "scrolled": true
   },
   "outputs": [],
   "source": [
    "pd.concat([gkPlayerData, playerMatchMinsdf], axis=1)"
   ]
  },
  {
   "cell_type": "code",
   "execution_count": null,
   "metadata": {},
   "outputs": [],
   "source": [
    "gkPlayerData = pd.concat([gkPlayerData, playerMatchMinsdf], axis=1)"
   ]
  },
  {
   "cell_type": "code",
   "execution_count": null,
   "metadata": {},
   "outputs": [],
   "source": [
    "gkPlayerData[\"savesPer90\"] = gkPlayerData[\"goalkeeper.type.id\"]\\\n",
    "    .divide(gkPlayerData[\"minsPlayed\"]).multiply(90).round(1)"
   ]
  },
  {
   "cell_type": "code",
   "execution_count": null,
   "metadata": {
    "scrolled": true
   },
   "outputs": [],
   "source": [
    "gkPlayerData"
   ]
  },
  {
   "cell_type": "code",
   "execution_count": null,
   "metadata": {},
   "outputs": [],
   "source": [
    "gkPlayerData[\"minsPerSave\"] = gkPlayerData[\"minsPlayed\"]\\\n",
    "    .divide(gkPlayerData[\"goalkeeper.type.id\"]).round(1)"
   ]
  },
  {
   "cell_type": "code",
   "execution_count": null,
   "metadata": {
    "scrolled": true
   },
   "outputs": [],
   "source": [
    "gkPlayerData"
   ]
  },
  {
   "cell_type": "code",
   "execution_count": null,
   "metadata": {
    "scrolled": false
   },
   "outputs": [],
   "source": [
    "gkPlayerData.style.highlight_max(subset=[\"savesPer90\"]).set_precision(1)"
   ]
  },
  {
   "cell_type": "code",
   "execution_count": null,
   "metadata": {
    "scrolled": false
   },
   "outputs": [],
   "source": [
    "gkPlayerData.style.background_gradient(subset=[\"savesPer90\"]).set_precision(1)"
   ]
  },
  {
   "cell_type": "code",
   "execution_count": null,
   "metadata": {
    "scrolled": true
   },
   "outputs": [],
   "source": [
    "gkPlayerData.style.highlight_max(subset=[\"minsPerSave\"]).set_precision(1)"
   ]
  },
  {
   "cell_type": "code",
   "execution_count": null,
   "metadata": {},
   "outputs": [],
   "source": [
    "gkPlayerData.replace(np.inf, np.nan)"
   ]
  },
  {
   "cell_type": "code",
   "execution_count": null,
   "metadata": {
    "scrolled": true
   },
   "outputs": [],
   "source": [
    "gkPlayerData.replace(np.inf, np.nan).dropna(subset=[\"minsPerSave\"])"
   ]
  },
  {
   "cell_type": "code",
   "execution_count": null,
   "metadata": {},
   "outputs": [],
   "source": [
    "gkPlayerDataFiltered = deepcopy(gkPlayerData.replace(np.inf, np.nan).dropna(subset=[\"minsPerSave\"]))"
   ]
  },
  {
   "cell_type": "code",
   "execution_count": null,
   "metadata": {
    "scrolled": false
   },
   "outputs": [],
   "source": [
    "gkPlayerDataFiltered.style.highlight_max(subset=[\"minsPerSave\"]).set_precision(1)"
   ]
  },
  {
   "cell_type": "code",
   "execution_count": null,
   "metadata": {
    "scrolled": false
   },
   "outputs": [],
   "source": [
    "gkPlayerDataFiltered.style.background_gradient(subset=[\"minsPerSave\"]).set_precision(1)"
   ]
  },
  {
   "cell_type": "markdown",
   "metadata": {},
   "source": [
    "# Save Ratings"
   ]
  },
  {
   "cell_type": "code",
   "execution_count": null,
   "metadata": {},
   "outputs": [],
   "source": [
    "gkData[gkData[\"goalkeeper.type.id\"] == 26]"
   ]
  },
  {
   "cell_type": "code",
   "execution_count": null,
   "metadata": {},
   "outputs": [],
   "source": [
    "gkData[gkData[\"goalkeeper.type.id\"] == 26][\"goalkeeper.outcome.name\"].unique()"
   ]
  },
  {
   "cell_type": "code",
   "execution_count": null,
   "metadata": {},
   "outputs": [],
   "source": [
    "gkData[gkData[\"goalkeeper.type.id\"] == 33][\"goalkeeper.outcome.name\"].unique()"
   ]
  },
  {
   "cell_type": "markdown",
   "metadata": {},
   "source": [
    "**Rating Parameters:**\n",
    "1. Saved Twice\n",
    "1. Touched Out\n",
    "1. Success\n",
    "1. In Play Danger\n",
    "1. In Play Safe\n",
    "1. No Touch\n",
    "1. Touched In\n",
    "\n",
    "saveRating = (Success * 3) + (Saved Twice * 2) + (In Play Safe * 2) + (Touched Out * 1) + (In Play Danger * -1) + (No Touch * -3) + (Touched In * -2)\n",
    "\n",
    "NOTE: All the columns involved in the rating must be at a per90 basis"
   ]
  },
  {
   "cell_type": "code",
   "execution_count": null,
   "metadata": {},
   "outputs": [],
   "source": [
    "saveData = deepcopy(gkData[gkData[\"goalkeeper.type.id\"].isin([26, 33])])"
   ]
  },
  {
   "cell_type": "code",
   "execution_count": null,
   "metadata": {
    "scrolled": false
   },
   "outputs": [],
   "source": [
    "saveData[[\"goalkeeper.outcome.id\", \"goalkeeper.outcome.name\"]].drop_duplicates()"
   ]
  },
  {
   "cell_type": "code",
   "execution_count": null,
   "metadata": {},
   "outputs": [],
   "source": [
    "gkSaveData = saveData.groupby([\"player.id\"]).agg({\"player.name\": \"first\",\n",
    "                                   \"team.name\": \"first\",\n",
    "                                   \"type.id\": \"count\",\n",
    "                                   \"goalkeeper.outcome.id\": [lambda x: (x == 15).sum(),\n",
    "                                                             lambda x: (x == 56).sum(),\n",
    "                                                             lambda x: (x == 53).sum(),\n",
    "                                                             lambda x: (x == 59).sum(),\n",
    "                                                             lambda x: (x == 52).sum(),\n",
    "                                                             lambda x: (x == 55).sum(),\n",
    "                                                             lambda x: (x == 58).sum()]})"
   ]
  },
  {
   "cell_type": "code",
   "execution_count": null,
   "metadata": {},
   "outputs": [],
   "source": [
    "gkSaveData"
   ]
  },
  {
   "cell_type": "code",
   "execution_count": null,
   "metadata": {},
   "outputs": [],
   "source": [
    "gkSaveData.columns = [\"player.name\", \"team.name\", \"totActions\",\n",
    "                      \"Saved Twice\", \"Touched Out\", \"Success\",\n",
    "                      \"In Play Danger\", \"In Play Safe\",\n",
    "                      \"No Touch\", \"Touched In\"]"
   ]
  },
  {
   "cell_type": "code",
   "execution_count": null,
   "metadata": {
    "scrolled": true
   },
   "outputs": [],
   "source": [
    "pd.concat([gkSaveData, playerMatchMinsdf], axis=1)"
   ]
  },
  {
   "cell_type": "code",
   "execution_count": null,
   "metadata": {},
   "outputs": [],
   "source": [
    "gkSaveData = pd.concat([gkSaveData, playerMatchMinsdf], axis=1)"
   ]
  },
  {
   "cell_type": "code",
   "execution_count": null,
   "metadata": {},
   "outputs": [],
   "source": [
    "gkSaveData"
   ]
  },
  {
   "cell_type": "code",
   "execution_count": null,
   "metadata": {},
   "outputs": [],
   "source": [
    "gkSaveDataFiltered = gkSaveData.dropna(subset=[\"player.name\"])"
   ]
  },
  {
   "cell_type": "code",
   "execution_count": null,
   "metadata": {
    "scrolled": false
   },
   "outputs": [],
   "source": [
    "gkSaveDataFiltered"
   ]
  },
  {
   "cell_type": "code",
   "execution_count": null,
   "metadata": {},
   "outputs": [],
   "source": [
    "per90Cols = [\"Saved Twice\", \"Touched Out\", \"Success\",\n",
    "             \"In Play Danger\", \"In Play Safe\",\n",
    "             \"No Touch\", \"Touched In\"]\n",
    "for col in per90Cols:\n",
    "    gkSaveDataFiltered[col + \" Per90\"] = gkSaveDataFiltered[col]\\\n",
    "    .divide(gkSaveDataFiltered[\"minsPlayed\"]).multiply(90).round(1)"
   ]
  },
  {
   "cell_type": "code",
   "execution_count": null,
   "metadata": {},
   "outputs": [],
   "source": [
    "gkSaveDataFiltered.head()"
   ]
  },
  {
   "cell_type": "code",
   "execution_count": null,
   "metadata": {},
   "outputs": [],
   "source": [
    "gkSaveDataFiltered[\"saveRating\"] =\\\n",
    "    (gkSaveDataFiltered[\"Success Per90\"]*3)\\\n",
    "    .add(gkSaveDataFiltered[\"Saved Twice Per90\"]*2)\\\n",
    "    .add(gkSaveDataFiltered[\"In Play Safe Per90\"]*2)\\\n",
    "    .add(gkSaveDataFiltered[\"Touched Out Per90\"]*1)\\\n",
    "    .add(gkSaveDataFiltered[\"In Play Danger Per90\"]*-1)\\\n",
    "    .add(gkSaveDataFiltered[\"No Touch Per90\"]*-1)\\\n",
    "    .add(gkSaveDataFiltered[\"Touched In Per90\"]*-1)"
   ]
  },
  {
   "cell_type": "code",
   "execution_count": null,
   "metadata": {
    "scrolled": true
   },
   "outputs": [],
   "source": [
    "gkSaveDataFiltered"
   ]
  },
  {
   "cell_type": "code",
   "execution_count": null,
   "metadata": {
    "scrolled": false
   },
   "outputs": [],
   "source": [
    "gkSaveDataFiltered.style.highlight_max(subset=[\"saveRating\"]).set_precision(1)"
   ]
  },
  {
   "cell_type": "code",
   "execution_count": null,
   "metadata": {},
   "outputs": [],
   "source": [
    "gkSaveDataFiltered.style.background_gradient(subset=[\"saveRating\"]).set_precision(1)"
   ]
  },
  {
   "cell_type": "code",
   "execution_count": null,
   "metadata": {},
   "outputs": [],
   "source": [
    "gkSaveDataFinal = gkSaveDataFiltered[[\"player.name\", \"team.name\", \"saveRating\"]]\\\n",
    "    .sort_values(\"saveRating\", ascending=False)"
   ]
  },
  {
   "cell_type": "code",
   "execution_count": null,
   "metadata": {
    "scrolled": false
   },
   "outputs": [],
   "source": [
    "gkSaveDataFinal.style.background_gradient(subset=[\"saveRating\"]).set_precision(1)"
   ]
  },
  {
   "cell_type": "code",
   "execution_count": null,
   "metadata": {},
   "outputs": [],
   "source": [
    "from sklearn.preprocessing import MinMaxScaler"
   ]
  },
  {
   "cell_type": "code",
   "execution_count": null,
   "metadata": {},
   "outputs": [],
   "source": [
    "scaler = MinMaxScaler((1, 10))"
   ]
  },
  {
   "cell_type": "code",
   "execution_count": null,
   "metadata": {},
   "outputs": [],
   "source": [
    "scaler.fit_transform(np.array(gkSaveDataFinal[\"saveRating\"]).reshape(-1, 1))"
   ]
  },
  {
   "cell_type": "code",
   "execution_count": null,
   "metadata": {},
   "outputs": [],
   "source": [
    "gkSaveDataFinal[\"saveRatingScaled\"] =\\\n",
    "    scaler.fit_transform(np.array(gkSaveDataFinal[\"saveRating\"]).reshape(-1, 1))"
   ]
  },
  {
   "cell_type": "code",
   "execution_count": null,
   "metadata": {},
   "outputs": [],
   "source": [
    "gkSaveDataFinal.style.background_gradient(subset=[\"saveRatingScaled\"]).set_precision(1)"
   ]
  },
  {
   "cell_type": "code",
   "execution_count": null,
   "metadata": {},
   "outputs": [],
   "source": []
  }
 ],
 "metadata": {
  "kernelspec": {
   "display_name": "Python 3",
   "language": "python",
   "name": "python3"
  },
  "language_info": {
   "codemirror_mode": {
    "name": "ipython",
    "version": 3
   },
   "file_extension": ".py",
   "mimetype": "text/x-python",
   "name": "python",
   "nbconvert_exporter": "python",
   "pygments_lexer": "ipython3",
   "version": "3.8.3"
  },
  "toc": {
   "base_numbering": 1,
   "nav_menu": {},
   "number_sections": true,
   "sideBar": true,
   "skip_h1_title": false,
   "title_cell": "Table of Contents",
   "title_sidebar": "Contents",
   "toc_cell": false,
   "toc_position": {},
   "toc_section_display": true,
   "toc_window_display": false
  }
 },
 "nbformat": 4,
 "nbformat_minor": 2
}

{
 "cells": [
  {
   "cell_type": "markdown",
   "metadata": {},
   "source": [
    "# What is Scouting and why is it so important?"
   ]
  },
  {
   "cell_type": "markdown",
   "metadata": {},
   "source": [
    "# Import Required Libraries"
   ]
  },
  {
   "cell_type": "code",
   "execution_count": null,
   "metadata": {},
   "outputs": [],
   "source": [
    "# Data Manipulation libraries:\n",
    "import numpy as np\n",
    "import pandas as pd\n",
    "from copy import deepcopy\n",
    "\n",
    "# Scraping libraries\n",
    "import json\n",
    "from bs4 import BeautifulSoup\n",
    "from urllib.request import urlopen\n",
    "\n",
    "# Plotting libraries\n",
    "import mplsoccer\n",
    "from highlight_text import fig_text"
   ]
  },
  {
   "cell_type": "markdown",
   "metadata": {},
   "source": [
    "# Scrape Data for Scouting"
   ]
  },
  {
   "cell_type": "markdown",
   "metadata": {},
   "source": [
    "## Scrape Performance Data"
   ]
  },
  {
   "cell_type": "code",
   "execution_count": null,
   "metadata": {},
   "outputs": [],
   "source": [
    "top5Leaguesids = [\"EPL\", \"La_Liga\", \"Bundesliga\", \"Serie_A\", \"Ligue_1\"]"
   ]
  },
  {
   "cell_type": "code",
   "execution_count": null,
   "metadata": {},
   "outputs": [],
   "source": [
    "\"\"\" Scrape player stats \"\"\"\n",
    "\n",
    "# Connect to the page and obtain HTML code:\n",
    "scrapeUrl = \"https://understat.com/league/EPL\"\n",
    "pageConnect = urlopen(scrapeUrl)\n",
    "pageHTML = BeautifulSoup(pageConnect, \"html.parser\")\n",
    "\n",
    "# Obtain data string for Player Data in the league:\n",
    "listElement = 3\n",
    "jsonRawString = pageHTML.findAll(name=\"script\")[listElement].text\n",
    "start_idx = jsonRawString.index(\"\\\\\")\n",
    "stop_idx = jsonRawString.index(\"')\")\n",
    "\n",
    "# Process the string and convert to dataframe:\n",
    "jsonData = jsonRawString[start_idx:stop_idx]\n",
    "jsonData = jsonData.encode(\"utf8\").decode(\"unicode_escape\")\n",
    "tourPlayerData = pd.json_normalize(json.loads(jsonData))"
   ]
  },
  {
   "cell_type": "code",
   "execution_count": null,
   "metadata": {},
   "outputs": [],
   "source": [
    "tourPlayerData.head()"
   ]
  },
  {
   "cell_type": "code",
   "execution_count": null,
   "metadata": {},
   "outputs": [],
   "source": [
    "tourPlayerData.shape"
   ]
  },
  {
   "cell_type": "code",
   "execution_count": null,
   "metadata": {},
   "outputs": [],
   "source": [
    "finalPlayerData = pd.DataFrame()\n",
    "\n",
    "\"\"\" Scrape player stats from all top 5 European Leagues\"\"\"\n",
    "\n",
    "for tourName in top5Leaguesids:\n",
    "    print(\"Scraping for \", tourName)\n",
    "    # Connect to the page and obtain HTML code:\n",
    "    scrapeUrl = \"https://understat.com/league/\" + tourName\n",
    "    pageConnect = urlopen(scrapeUrl)\n",
    "    pageHTML = BeautifulSoup(pageConnect, \"html.parser\")\n",
    "\n",
    "    # Obtain data string for Player Data in the league:\n",
    "    listElement = 3\n",
    "    jsonRawString = pageHTML.findAll(name=\"script\")[listElement].text\n",
    "    start_idx = jsonRawString.index(\"\\\\\")\n",
    "    stop_idx = jsonRawString.index(\"')\")\n",
    "\n",
    "    # Process the string and convert to dataframe:\n",
    "    jsonData = jsonRawString[start_idx:stop_idx]\n",
    "    jsonData = jsonData.encode(\"utf8\").decode(\"unicode_escape\")\n",
    "    tourPlayerData = pd.json_normalize(json.loads(jsonData))\n",
    "    tourPlayerData.insert(0, \"tourName\", tourName)\n",
    "    print(tourPlayerData.shape)\n",
    "\n",
    "    # Append player data from current tour to final Dataframe:\n",
    "    finalPlayerData = finalPlayerData.append(tourPlayerData)"
   ]
  },
  {
   "cell_type": "code",
   "execution_count": null,
   "metadata": {},
   "outputs": [],
   "source": [
    "finalPlayerData.tail()"
   ]
  },
  {
   "cell_type": "code",
   "execution_count": null,
   "metadata": {},
   "outputs": [],
   "source": [
    "finalPlayerData[\"tourName\"].unique()"
   ]
  },
  {
   "cell_type": "code",
   "execution_count": null,
   "metadata": {},
   "outputs": [],
   "source": [
    "finalPlayerData.shape"
   ]
  },
  {
   "cell_type": "code",
   "execution_count": null,
   "metadata": {},
   "outputs": [],
   "source": [
    "finalPlayerData.reset_index(drop=True)"
   ]
  },
  {
   "cell_type": "code",
   "execution_count": null,
   "metadata": {},
   "outputs": [],
   "source": [
    "finalPlayerData.reset_index(drop=True, inplace=True)"
   ]
  },
  {
   "cell_type": "code",
   "execution_count": null,
   "metadata": {},
   "outputs": [],
   "source": [
    "finalPlayerData.to_csv(\"../data/understatDataTop5Leagues.csv\", index=False)"
   ]
  },
  {
   "cell_type": "code",
   "execution_count": null,
   "metadata": {},
   "outputs": [],
   "source": [
    "finalPlayerData[finalPlayerData[\"position\"].str.contains(\"S\")][\"position\"].unique()"
   ]
  },
  {
   "cell_type": "code",
   "execution_count": null,
   "metadata": {},
   "outputs": [],
   "source": [
    "finalPlayerData[finalPlayerData[\"position\"].str.contains(\"GK S\")]"
   ]
  },
  {
   "cell_type": "code",
   "execution_count": null,
   "metadata": {},
   "outputs": [],
   "source": [
    "finalPlayerData[(finalPlayerData[\"position\"] == \"S\") & (finalPlayerData[\"games\"] > \"10\")]"
   ]
  },
  {
   "cell_type": "markdown",
   "metadata": {},
   "source": [
    "# Data Cleaning"
   ]
  },
  {
   "cell_type": "code",
   "execution_count": null,
   "metadata": {},
   "outputs": [],
   "source": [
    "finalPlayerData.info()"
   ]
  },
  {
   "cell_type": "code",
   "execution_count": null,
   "metadata": {},
   "outputs": [],
   "source": [
    "finalPlayerData.apply(pd.to_numeric, errors=\"ignore\").info()"
   ]
  },
  {
   "cell_type": "code",
   "execution_count": null,
   "metadata": {},
   "outputs": [],
   "source": [
    "finalPlayerData = finalPlayerData.apply(pd.to_numeric, errors=\"ignore\")"
   ]
  },
  {
   "cell_type": "code",
   "execution_count": null,
   "metadata": {},
   "outputs": [],
   "source": [
    "finalPlayerData[(finalPlayerData[\"position\"].isin([\"S\", \"F S\"])) & (finalPlayerData[\"games\"] > 10)]"
   ]
  },
  {
   "cell_type": "markdown",
   "metadata": {},
   "source": [
    "# Feature Engineering"
   ]
  },
  {
   "cell_type": "markdown",
   "metadata": {},
   "source": [
    "## Per90 Columns"
   ]
  },
  {
   "cell_type": "code",
   "execution_count": null,
   "metadata": {},
   "outputs": [],
   "source": [
    "finalPlayerData.columns"
   ]
  },
  {
   "cell_type": "code",
   "execution_count": null,
   "metadata": {},
   "outputs": [],
   "source": [
    "colsForPer90 = ['goals', 'xG',\n",
    "                'assists', 'xA',\n",
    "                'shots', 'key_passes',\n",
    "                'npg', 'npxG',\n",
    "                'xGChain', 'xGBuildup']"
   ]
  },
  {
   "cell_type": "code",
   "execution_count": null,
   "metadata": {},
   "outputs": [],
   "source": [
    "for col in colsForPer90:\n",
    "    finalPlayerData[col + \"Per90\"] =\\\n",
    "        finalPlayerData[col].divide(finalPlayerData[\"time\"]).multiply(90).round(1)"
   ]
  },
  {
   "cell_type": "code",
   "execution_count": null,
   "metadata": {},
   "outputs": [],
   "source": [
    "finalPlayerData.head()"
   ]
  },
  {
   "cell_type": "markdown",
   "metadata": {},
   "source": [
    "`discipline` Column"
   ]
  },
  {
   "cell_type": "code",
   "execution_count": null,
   "metadata": {},
   "outputs": [],
   "source": [
    "finalPlayerData[\"discipline\"] =\\\n",
    "    (finalPlayerData[\"yellow_cards\"]*1).add(finalPlayerData[\"red_cards\"]*3).round(1)"
   ]
  },
  {
   "cell_type": "code",
   "execution_count": null,
   "metadata": {},
   "outputs": [],
   "source": []
  },
  {
   "cell_type": "code",
   "execution_count": null,
   "metadata": {
    "scrolled": true
   },
   "outputs": [],
   "source": [
    "finalPlayerData.loc[finalPlayerData[\"discipline\"] > 10, [\"player_name\", \"yellow_cards\", \"red_cards\"]]"
   ]
  },
  {
   "cell_type": "code",
   "execution_count": null,
   "metadata": {},
   "outputs": [],
   "source": [
    "finalPlayerData[\"discipline\"].head()"
   ]
  },
  {
   "cell_type": "markdown",
   "metadata": {},
   "source": [
    "## `goalContributions` Column"
   ]
  },
  {
   "cell_type": "code",
   "execution_count": null,
   "metadata": {},
   "outputs": [],
   "source": [
    "finalPlayerData[\"gContri\"] = finalPlayerData[\"goals\"].add(finalPlayerData[\"assists\"])\n",
    "finalPlayerData[\"gContriPer90\"] = finalPlayerData[\"goalsPer90\"].add(finalPlayerData[\"assistsPer90\"])"
   ]
  },
  {
   "cell_type": "code",
   "execution_count": null,
   "metadata": {},
   "outputs": [],
   "source": [
    "finalPlayerData[\"xgContri\"] = finalPlayerData[\"xG\"].add(finalPlayerData[\"xA\"])\n",
    "finalPlayerData[\"xgContriPer90\"] = finalPlayerData[\"xGPer90\"].add(finalPlayerData[\"xAPer90\"])"
   ]
  },
  {
   "cell_type": "code",
   "execution_count": null,
   "metadata": {},
   "outputs": [],
   "source": [
    "finalPlayerData[\"shotsContri\"] = finalPlayerData[\"shots\"].add(finalPlayerData[\"key_passes\"])\n",
    "finalPlayerData[\"shotsContriPer90\"] =\\\n",
    "    finalPlayerData[\"shotsPer90\"].add(finalPlayerData[\"key_passesPer90\"])"
   ]
  },
  {
   "cell_type": "code",
   "execution_count": null,
   "metadata": {},
   "outputs": [],
   "source": [
    "finalPlayerData[\"npgContri\"] = finalPlayerData[\"npg\"].add(finalPlayerData[\"assists\"])\n",
    "finalPlayerData[\"npgContriPer90\"] = finalPlayerData[\"npgPer90\"].add(finalPlayerData[\"assistsPer90\"])"
   ]
  },
  {
   "cell_type": "code",
   "execution_count": null,
   "metadata": {},
   "outputs": [],
   "source": [
    "finalPlayerData[\"npxgContri\"] = finalPlayerData[\"npxG\"].add(finalPlayerData[\"xA\"])\n",
    "finalPlayerData[\"npxgContriPer90\"] = finalPlayerData[\"npxGPer90\"].add(finalPlayerData[\"xAPer90\"])"
   ]
  },
  {
   "cell_type": "code",
   "execution_count": null,
   "metadata": {},
   "outputs": [],
   "source": [
    "finalPlayerData[\"gContri\"]"
   ]
  },
  {
   "cell_type": "markdown",
   "metadata": {},
   "source": [
    "# Who will Replace Harry Kane at Spurs?"
   ]
  },
  {
   "cell_type": "markdown",
   "metadata": {},
   "source": [
    "## Finding Similar Players"
   ]
  },
  {
   "cell_type": "code",
   "execution_count": null,
   "metadata": {},
   "outputs": [],
   "source": [
    "finalPlayerData.columns"
   ]
  },
  {
   "cell_type": "markdown",
   "metadata": {},
   "source": [
    "### Attacking Rating System"
   ]
  },
  {
   "cell_type": "markdown",
   "metadata": {},
   "source": [
    "**Parameters for Rating**\n",
    "1. gContriPer90\n",
    "1. xgContriPer90\n",
    "1. shotsContriPer90\n",
    "1. npgContriPer90\n",
    "1. npxgContriPer90\n",
    "1. xGChainPer90\n",
    "1. xGBuildupPer90"
   ]
  },
  {
   "cell_type": "code",
   "execution_count": null,
   "metadata": {},
   "outputs": [],
   "source": [
    "finalPlayerData[\"attRating\"] =\\\n",
    "    (finalPlayerData[\"gContriPer90\"]*2)\\\n",
    "        .add(finalPlayerData[\"xgContriPer90\"]*2)\\\n",
    "        .add(finalPlayerData[\"shotsContriPer90\"]*1.5)\\\n",
    "        .add(finalPlayerData[\"npgContriPer90\"]*3)\\\n",
    "        .add(finalPlayerData[\"npxgContriPer90\"]*3)"
   ]
  },
  {
   "cell_type": "code",
   "execution_count": null,
   "metadata": {
    "scrolled": false
   },
   "outputs": [],
   "source": [
    "finalPlayerData[\"attRating\"].nlargest(25)"
   ]
  },
  {
   "cell_type": "code",
   "execution_count": null,
   "metadata": {
    "scrolled": true
   },
   "outputs": [],
   "source": [
    "finalPlayerData.loc[finalPlayerData[\"attRating\"].nlargest(25).index,\n",
    "                    [\"player_name\", \"team_title\", \"attRating\"]]"
   ]
  },
  {
   "cell_type": "markdown",
   "metadata": {},
   "source": [
    "### Filter Players"
   ]
  },
  {
   "cell_type": "code",
   "execution_count": null,
   "metadata": {},
   "outputs": [],
   "source": [
    "\"\"\" Only consider players who have played >900 mins (equivalent to 10 matches) \"\"\"\n",
    "\n",
    "finalPlayerDataFiltered = deepcopy(finalPlayerData[finalPlayerData[\"time\"] >= 900])"
   ]
  },
  {
   "cell_type": "code",
   "execution_count": null,
   "metadata": {
    "scrolled": false
   },
   "outputs": [],
   "source": [
    "finalPlayerDataFiltered.loc[finalPlayerDataFiltered[\"attRating\"].nlargest(25).index,\n",
    "                            [\"player_name\", \"team_title\", \"attRating\"]]"
   ]
  },
  {
   "cell_type": "code",
   "execution_count": null,
   "metadata": {
    "scrolled": true
   },
   "outputs": [],
   "source": [
    "finalPlayerDataFiltered.loc[finalPlayerDataFiltered[\"player_name\"].str.contains(\"Dominic\"),\n",
    "                            [\"player_name\", \"team_title\", \"attRating\"]]"
   ]
  },
  {
   "cell_type": "markdown",
   "metadata": {},
   "source": [
    "### Level the Playing Field"
   ]
  },
  {
   "cell_type": "code",
   "execution_count": null,
   "metadata": {},
   "outputs": [],
   "source": [
    "pd.DataFrame([[\"EPL\", 23.928],\n",
    "              [\"La_Liga\", 19.375],\n",
    "              [\"Serie_A\", 16.285],\n",
    "              [\"Bundesliga\", 15.214],\n",
    "              [\"Ligue_1\", 7.916],])"
   ]
  },
  {
   "cell_type": "code",
   "execution_count": null,
   "metadata": {},
   "outputs": [],
   "source": [
    "leaguePointsUEFA = pd.DataFrame([[\"EPL\", 23.928],\n",
    "                                 [\"La_Liga\", 19.375],\n",
    "                                 [\"Serie_A\", 16.285],\n",
    "                                 [\"Bundesliga\", 15.214],\n",
    "                                 [\"Ligue_1\", 7.916],])"
   ]
  },
  {
   "cell_type": "code",
   "execution_count": null,
   "metadata": {},
   "outputs": [],
   "source": [
    "leaguePointsUEFA"
   ]
  },
  {
   "cell_type": "code",
   "execution_count": null,
   "metadata": {},
   "outputs": [],
   "source": [
    "leaguePointsUEFA.columns = [\"tourName\", \"uefaPoints\"]"
   ]
  },
  {
   "cell_type": "code",
   "execution_count": null,
   "metadata": {},
   "outputs": [],
   "source": [
    "pd.merge(finalPlayerDataFiltered, leaguePointsUEFA,\n",
    "         how=\"left\", on=\"tourName\")"
   ]
  },
  {
   "cell_type": "code",
   "execution_count": null,
   "metadata": {},
   "outputs": [],
   "source": [
    "finalPlayerDataFiltered = pd.merge(finalPlayerDataFiltered, leaguePointsUEFA,\n",
    "                                   how=\"left\", on=\"tourName\")"
   ]
  },
  {
   "cell_type": "code",
   "execution_count": null,
   "metadata": {},
   "outputs": [],
   "source": [
    "finalPlayerDataFiltered[\"attRating\"].multiply(finalPlayerDataFiltered[\"uefaPoints\"])"
   ]
  },
  {
   "cell_type": "code",
   "execution_count": null,
   "metadata": {},
   "outputs": [],
   "source": [
    "finalPlayerDataFiltered[\"adjAttRating\"] =\\\n",
    "    finalPlayerDataFiltered[\"attRating\"].multiply(finalPlayerDataFiltered[\"uefaPoints\"])"
   ]
  },
  {
   "cell_type": "code",
   "execution_count": null,
   "metadata": {},
   "outputs": [],
   "source": [
    "finalPlayerDataFiltered[\"adjAttRating\"].min()"
   ]
  },
  {
   "cell_type": "code",
   "execution_count": null,
   "metadata": {},
   "outputs": [],
   "source": [
    "from sklearn.preprocessing import MinMaxScaler"
   ]
  },
  {
   "cell_type": "code",
   "execution_count": null,
   "metadata": {},
   "outputs": [],
   "source": [
    "scaler = MinMaxScaler((1, 10))"
   ]
  },
  {
   "cell_type": "code",
   "execution_count": null,
   "metadata": {},
   "outputs": [],
   "source": [
    "scaler.fit_transform(np.array(finalPlayerDataFiltered[\"adjAttRating\"]).reshape(-1, 1))"
   ]
  },
  {
   "cell_type": "code",
   "execution_count": 1,
   "metadata": {},
   "outputs": [
    {
     "ename": "NameError",
     "evalue": "name 'scaler' is not defined",
     "output_type": "error",
     "traceback": [
      "\u001b[1;31m---------------------------------------------------------------------------\u001b[0m",
      "\u001b[1;31mNameError\u001b[0m                                 Traceback (most recent call last)",
      "\u001b[1;32m<ipython-input-1-05e3b60ede69>\u001b[0m in \u001b[0;36m<module>\u001b[1;34m\u001b[0m\n\u001b[0;32m      1\u001b[0m \u001b[0mfinalPlayerDataFiltered\u001b[0m\u001b[1;33m[\u001b[0m\u001b[1;34m\"adjAttRating\"\u001b[0m\u001b[1;33m]\u001b[0m \u001b[1;33m=\u001b[0m\u001b[0;31m\\\u001b[0m\u001b[1;33m\u001b[0m\u001b[1;33m\u001b[0m\u001b[0m\n\u001b[1;32m----> 2\u001b[1;33m     \u001b[0mscaler\u001b[0m\u001b[1;33m.\u001b[0m\u001b[0mfit_transform\u001b[0m\u001b[1;33m(\u001b[0m\u001b[0mnp\u001b[0m\u001b[1;33m.\u001b[0m\u001b[0marray\u001b[0m\u001b[1;33m(\u001b[0m\u001b[0mfinalPlayerDataFiltered\u001b[0m\u001b[1;33m[\u001b[0m\u001b[1;34m\"adjAttRating\"\u001b[0m\u001b[1;33m]\u001b[0m\u001b[1;33m)\u001b[0m\u001b[1;33m.\u001b[0m\u001b[0mreshape\u001b[0m\u001b[1;33m(\u001b[0m\u001b[1;33m-\u001b[0m\u001b[1;36m1\u001b[0m\u001b[1;33m,\u001b[0m \u001b[1;36m1\u001b[0m\u001b[1;33m)\u001b[0m\u001b[1;33m)\u001b[0m\u001b[1;33m\u001b[0m\u001b[1;33m\u001b[0m\u001b[0m\n\u001b[0m",
      "\u001b[1;31mNameError\u001b[0m: name 'scaler' is not defined"
     ]
    }
   ],
   "source": [
    "finalPlayerDataFiltered[\"adjAttRating\"] =\\\n",
    "    scaler.fit_transform(np.array(finalPlayerDataFiltered[\"adjAttRating\"]).reshape(-1, 1))"
   ]
  },
  {
   "cell_type": "code",
   "execution_count": null,
   "metadata": {},
   "outputs": [],
   "source": [
    "finalPlayerDataFiltered.loc[finalPlayerDataFiltered[\"adjAttRating\"].nlargest(25).index,\n",
    "                            [\"player_name\", \"team_title\", \"attRating\", \"adjAttRating\"]]"
   ]
  },
  {
   "cell_type": "code",
   "execution_count": 2,
   "metadata": {},
   "outputs": [],
   "source": [
    "\"\"\" Possible Replacements \"\"\"\n",
    "\n",
    "possibleReplacements = [\"Luis Muriel\", \"Kelechi Iheanacho\", \"Rodrigo\",\n",
    "                        \"Patrick Bamford\", \"Gerard Moreno\", \"Timo Werner\"]"
   ]
  },
  {
   "cell_type": "markdown",
   "metadata": {},
   "source": [
    "## Comparison of Replacements with Kane"
   ]
  },
  {
   "cell_type": "markdown",
   "metadata": {},
   "source": [
    "### Goal Contributions"
   ]
  },
  {
   "cell_type": "code",
   "execution_count": null,
   "metadata": {},
   "outputs": [],
   "source": [
    "finalPlayerDataFiltered.columns"
   ]
  },
  {
   "cell_type": "code",
   "execution_count": null,
   "metadata": {},
   "outputs": [],
   "source": [
    "finalAttParams = [\"goalsPer90\", \"xGPer90\", \"assistsPer90\", \"xAPer90\", \"npgPer90\", \"npxGPer90\", \"adjAttRating\"]"
   ]
  },
  {
   "cell_type": "code",
   "execution_count": null,
   "metadata": {},
   "outputs": [],
   "source": [
    "finalPlayerDataFiltered.loc[finalPlayerDataFiltered[\"player_name\"] == \"Harry Kane\",\n",
    "                            finalAttParams].values.tolist()"
   ]
  },
  {
   "cell_type": "markdown",
   "metadata": {},
   "source": [
    "### Setting up parameters"
   ]
  },
  {
   "cell_type": "code",
   "execution_count": null,
   "metadata": {},
   "outputs": [],
   "source": [
    "# Final Parameter list for comparison:\n",
    "params = finalAttParams\n",
    "\n",
    "# Harry Kane Stats:\n",
    "values = finalPlayerDataFiltered.loc[finalPlayerDataFiltered[\"player_name\"] == \"Harry Kane\",\n",
    "                                     params].round(1).values.flatten()"
   ]
  },
  {
   "cell_type": "code",
   "execution_count": null,
   "metadata": {},
   "outputs": [],
   "source": [
    "values"
   ]
  },
  {
   "cell_type": "markdown",
   "metadata": {},
   "source": [
    "### Comparative Analysis with each possible replacement"
   ]
  },
  {
   "cell_type": "code",
   "execution_count": null,
   "metadata": {
    "scrolled": false
   },
   "outputs": [],
   "source": [
    "for replacement in possibleReplacements:\n",
    "\n",
    "    values_2 =\\\n",
    "        finalPlayerDataFiltered.loc[finalPlayerDataFiltered[\"player_name\"] == replacement,\n",
    "                                    params].round(1).values.flatten()\n",
    "\n",
    "    minRange = finalPlayerDataFiltered[params].min().tolist()\n",
    "    maxRange = finalPlayerDataFiltered[params].max().tolist()\n",
    "\n",
    "    # instantiate PyPizza class\n",
    "    baker = mplsoccer.PyPizza(\n",
    "        params=params,                  # list of parameters\n",
    "        min_range=minRange,\n",
    "        max_range=maxRange,\n",
    "        background_color=\"#383838\",     # background color\n",
    "        straight_line_color=\"#222222\",  # color for straight lines\n",
    "        straight_line_lw=1,             # linewidth for straight lines\n",
    "        last_circle_lw=1,               # linewidth of last circle\n",
    "        last_circle_color=\"#222222\",    # color of last circle\n",
    "        other_circle_ls=\"-.\",           # linestyle for other circles\n",
    "        other_circle_lw=1               # linewidth for other circles\n",
    "    )\n",
    "\n",
    "    # plot pizza\n",
    "    fig, ax = baker.make_pizza(\n",
    "        values,                     # list of values of Harry Kane\n",
    "        compare_values=values_2,    # comparison values of replacement player\n",
    "        figsize=(8, 8),             # adjust figsize according to your need\n",
    "        kwargs_slices=dict(\n",
    "            facecolor=\"#1A78CF\", edgecolor=\"#222222\",\n",
    "            zorder=2, linewidth=1\n",
    "        ),                          # values to be used when plotting slices\n",
    "        kwargs_compare=dict(\n",
    "            facecolor=\"#FF9300\", edgecolor=\"#222222\",\n",
    "            zorder=2, linewidth=1,\n",
    "        ),\n",
    "        kwargs_params=dict(\n",
    "            color=\"#ffffff\", fontsize=12,\n",
    "            va=\"center\"\n",
    "        ),                          # values to be used when adding parameter\n",
    "        kwargs_values=dict(\n",
    "            color=\"#000000\", fontsize=12,\n",
    "            zorder=3,\n",
    "            bbox=dict(\n",
    "                edgecolor=\"#000000\", facecolor=\"cornflowerblue\",\n",
    "                boxstyle=\"round,pad=0.2\", lw=1\n",
    "            )\n",
    "        ),                          # values to be used when adding parameter-values labels\n",
    "        kwargs_compare_values=dict(\n",
    "            color=\"#000000\", fontsize=12, zorder=3,\n",
    "            bbox=dict(edgecolor=\"#000000\", facecolor=\"#FF9300\", boxstyle=\"round,pad=0.2\", lw=1)\n",
    "        ),                          # values to be used when adding parameter-values labels\n",
    "    )\n",
    "\n",
    "    # adjust the texts\n",
    "#     params_offset = [False, False, False, False, False, True, False]\n",
    "#     # to adjust text for comparison-values-text pass adj_comp_values=True\n",
    "#     baker.adjust_texts(params_offset, offset=-0.2)\n",
    "\n",
    "    # add title\n",
    "    fig_text(\n",
    "        0.515, 0.99, \"<Harry Kane> vs <\" + replacement + \">\",\n",
    "        size=20, fig=fig,\n",
    "        highlight_textprops=[{\"color\": '#1A78CF'}, {\"color\": '#FF9300'}],\n",
    "        ha=\"center\", color=\"#F2F2F2\"\n",
    "    )\n",
    "\n",
    "    # add subtitle\n",
    "    fig.text(\n",
    "        0.515, 0.932,\n",
    "        \"Scouting Goal Feature Comparison | 2020-21\",\n",
    "        size=15,\n",
    "        ha=\"center\", color=\"#ffffff\"\n",
    "    )"
   ]
  },
  {
   "cell_type": "code",
   "execution_count": null,
   "metadata": {},
   "outputs": [],
   "source": []
  }
 ],
 "metadata": {
  "kernelspec": {
   "display_name": "Python 3",
   "language": "python",
   "name": "python3"
  },
  "language_info": {
   "codemirror_mode": {
    "name": "ipython",
    "version": 3
   },
   "file_extension": ".py",
   "mimetype": "text/x-python",
   "name": "python",
   "nbconvert_exporter": "python",
   "pygments_lexer": "ipython3",
   "version": "3.8.3"
  },
  "toc": {
   "base_numbering": 1,
   "nav_menu": {},
   "number_sections": true,
   "sideBar": true,
   "skip_h1_title": false,
   "title_cell": "Table of Contents",
   "title_sidebar": "Contents",
   "toc_cell": false,
   "toc_position": {},
   "toc_section_display": true,
   "toc_window_display": false
  }
 },
 "nbformat": 4,
 "nbformat_minor": 2
}
